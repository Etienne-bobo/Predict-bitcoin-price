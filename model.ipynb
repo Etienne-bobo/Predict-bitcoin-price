{
 "cells": [
  {
   "cell_type": "markdown",
   "metadata": {},
   "source": [
    "#### Bitcoin price prediction"
   ]
  },
  {
   "cell_type": "code",
   "execution_count": 165,
   "metadata": {},
   "outputs": [],
   "source": [
    "# import libraries\n",
    "import pandas as pd\n",
    "import numpy as np\n",
    "import matplotlib.pyplot as plt \n",
    "import seaborn as sns \n",
    "import tensorflow as tf\n",
    "import os"
   ]
  },
  {
   "cell_type": "markdown",
   "metadata": {},
   "source": [
    "#### Import data\n",
    "https://www.investing.com/crypto/bitcoin/historical-data\n",
    "\n",
    "2010-07-18 - 10/24/2023\n",
    "\n",
    "Data: Daily Historical price of Bitcoin over the past 23 years\n",
    "\n",
    "Vol: the sum of all buy-sell transactions on a daily basis"
   ]
  },
  {
   "cell_type": "code",
   "execution_count": 166,
   "metadata": {},
   "outputs": [
    {
     "data": {
      "text/html": [
       "<div>\n",
       "<style scoped>\n",
       "    .dataframe tbody tr th:only-of-type {\n",
       "        vertical-align: middle;\n",
       "    }\n",
       "\n",
       "    .dataframe tbody tr th {\n",
       "        vertical-align: top;\n",
       "    }\n",
       "\n",
       "    .dataframe thead th {\n",
       "        text-align: right;\n",
       "    }\n",
       "</style>\n",
       "<table border=\"1\" class=\"dataframe\">\n",
       "  <thead>\n",
       "    <tr style=\"text-align: right;\">\n",
       "      <th></th>\n",
       "      <th>Price</th>\n",
       "      <th>Open</th>\n",
       "      <th>High</th>\n",
       "      <th>Low</th>\n",
       "      <th>Vol.</th>\n",
       "      <th>Change %</th>\n",
       "    </tr>\n",
       "    <tr>\n",
       "      <th>Date</th>\n",
       "      <th></th>\n",
       "      <th></th>\n",
       "      <th></th>\n",
       "      <th></th>\n",
       "      <th></th>\n",
       "      <th></th>\n",
       "    </tr>\n",
       "  </thead>\n",
       "  <tbody>\n",
       "    <tr>\n",
       "      <th>2023-10-24</th>\n",
       "      <td>34,562.9</td>\n",
       "      <td>33,037.3</td>\n",
       "      <td>35,191.4</td>\n",
       "      <td>32,866.5</td>\n",
       "      <td>183.50K</td>\n",
       "      <td>4.60%</td>\n",
       "    </tr>\n",
       "    <tr>\n",
       "      <th>2023-10-23</th>\n",
       "      <td>33,041.8</td>\n",
       "      <td>29,984.2</td>\n",
       "      <td>34,375.6</td>\n",
       "      <td>29,891.4</td>\n",
       "      <td>133.46K</td>\n",
       "      <td>10.20%</td>\n",
       "    </tr>\n",
       "    <tr>\n",
       "      <th>2023-10-22</th>\n",
       "      <td>29,984.2</td>\n",
       "      <td>29,912.7</td>\n",
       "      <td>30,193.4</td>\n",
       "      <td>29,713.6</td>\n",
       "      <td>29.07K</td>\n",
       "      <td>0.24%</td>\n",
       "    </tr>\n",
       "    <tr>\n",
       "      <th>2023-10-21</th>\n",
       "      <td>29,912.9</td>\n",
       "      <td>29,674.7</td>\n",
       "      <td>30,264.8</td>\n",
       "      <td>29,469.1</td>\n",
       "      <td>34.68K</td>\n",
       "      <td>0.80%</td>\n",
       "    </tr>\n",
       "    <tr>\n",
       "      <th>2023-10-20</th>\n",
       "      <td>29,674.5</td>\n",
       "      <td>28,724.0</td>\n",
       "      <td>30,165.9</td>\n",
       "      <td>28,586.1</td>\n",
       "      <td>82.68K</td>\n",
       "      <td>3.31%</td>\n",
       "    </tr>\n",
       "  </tbody>\n",
       "</table>\n",
       "</div>"
      ],
      "text/plain": [
       "               Price      Open      High       Low     Vol. Change %\n",
       "Date                                                                \n",
       "2023-10-24  34,562.9  33,037.3  35,191.4  32,866.5  183.50K    4.60%\n",
       "2023-10-23  33,041.8  29,984.2  34,375.6  29,891.4  133.46K   10.20%\n",
       "2023-10-22  29,984.2  29,912.7  30,193.4  29,713.6   29.07K    0.24%\n",
       "2023-10-21  29,912.9  29,674.7  30,264.8  29,469.1   34.68K    0.80%\n",
       "2023-10-20  29,674.5  28,724.0  30,165.9  28,586.1   82.68K    3.31%"
      ]
     },
     "execution_count": 166,
     "metadata": {},
     "output_type": "execute_result"
    }
   ],
   "source": [
    "data_df = pd.read_csv(\n",
    "    'Bitcoin Historical Data(1).csv',\n",
    "    parse_dates=['Date'],\n",
    "    index_col=['Date']\n",
    ")\n",
    "data_df.head()"
   ]
  },
  {
   "cell_type": "code",
   "execution_count": 167,
   "metadata": {},
   "outputs": [
    {
     "data": {
      "text/html": [
       "<div>\n",
       "<style scoped>\n",
       "    .dataframe tbody tr th:only-of-type {\n",
       "        vertical-align: middle;\n",
       "    }\n",
       "\n",
       "    .dataframe tbody tr th {\n",
       "        vertical-align: top;\n",
       "    }\n",
       "\n",
       "    .dataframe thead th {\n",
       "        text-align: right;\n",
       "    }\n",
       "</style>\n",
       "<table border=\"1\" class=\"dataframe\">\n",
       "  <thead>\n",
       "    <tr style=\"text-align: right;\">\n",
       "      <th></th>\n",
       "      <th>Price</th>\n",
       "      <th>Open</th>\n",
       "      <th>High</th>\n",
       "      <th>Low</th>\n",
       "      <th>Vol.</th>\n",
       "      <th>Change %</th>\n",
       "    </tr>\n",
       "    <tr>\n",
       "      <th>Date</th>\n",
       "      <th></th>\n",
       "      <th></th>\n",
       "      <th></th>\n",
       "      <th></th>\n",
       "      <th></th>\n",
       "      <th></th>\n",
       "    </tr>\n",
       "  </thead>\n",
       "  <tbody>\n",
       "    <tr>\n",
       "      <th>2010-07-22</th>\n",
       "      <td>0.1</td>\n",
       "      <td>0.1</td>\n",
       "      <td>0.1</td>\n",
       "      <td>0.1</td>\n",
       "      <td>2.16K</td>\n",
       "      <td>0.00%</td>\n",
       "    </tr>\n",
       "    <tr>\n",
       "      <th>2010-07-21</th>\n",
       "      <td>0.1</td>\n",
       "      <td>0.1</td>\n",
       "      <td>0.1</td>\n",
       "      <td>0.1</td>\n",
       "      <td>0.58K</td>\n",
       "      <td>0.00%</td>\n",
       "    </tr>\n",
       "    <tr>\n",
       "      <th>2010-07-20</th>\n",
       "      <td>0.1</td>\n",
       "      <td>0.1</td>\n",
       "      <td>0.1</td>\n",
       "      <td>0.1</td>\n",
       "      <td>0.26K</td>\n",
       "      <td>0.00%</td>\n",
       "    </tr>\n",
       "    <tr>\n",
       "      <th>2010-07-19</th>\n",
       "      <td>0.1</td>\n",
       "      <td>0.1</td>\n",
       "      <td>0.1</td>\n",
       "      <td>0.1</td>\n",
       "      <td>0.57K</td>\n",
       "      <td>0.00%</td>\n",
       "    </tr>\n",
       "    <tr>\n",
       "      <th>2010-07-18</th>\n",
       "      <td>0.1</td>\n",
       "      <td>0.0</td>\n",
       "      <td>0.1</td>\n",
       "      <td>0.1</td>\n",
       "      <td>0.08K</td>\n",
       "      <td>0.00%</td>\n",
       "    </tr>\n",
       "  </tbody>\n",
       "</table>\n",
       "</div>"
      ],
      "text/plain": [
       "           Price Open High  Low   Vol. Change %\n",
       "Date                                           \n",
       "2010-07-22   0.1  0.1  0.1  0.1  2.16K    0.00%\n",
       "2010-07-21   0.1  0.1  0.1  0.1  0.58K    0.00%\n",
       "2010-07-20   0.1  0.1  0.1  0.1  0.26K    0.00%\n",
       "2010-07-19   0.1  0.1  0.1  0.1  0.57K    0.00%\n",
       "2010-07-18   0.1  0.0  0.1  0.1  0.08K    0.00%"
      ]
     },
     "execution_count": 167,
     "metadata": {},
     "output_type": "execute_result"
    }
   ],
   "source": [
    "data_df.tail()"
   ]
  },
  {
   "cell_type": "code",
   "execution_count": 168,
   "metadata": {},
   "outputs": [
    {
     "data": {
      "text/html": [
       "<div>\n",
       "<style scoped>\n",
       "    .dataframe tbody tr th:only-of-type {\n",
       "        vertical-align: middle;\n",
       "    }\n",
       "\n",
       "    .dataframe tbody tr th {\n",
       "        vertical-align: top;\n",
       "    }\n",
       "\n",
       "    .dataframe thead th {\n",
       "        text-align: right;\n",
       "    }\n",
       "</style>\n",
       "<table border=\"1\" class=\"dataframe\">\n",
       "  <thead>\n",
       "    <tr style=\"text-align: right;\">\n",
       "      <th></th>\n",
       "      <th>Price</th>\n",
       "      <th>Open</th>\n",
       "      <th>High</th>\n",
       "      <th>Low</th>\n",
       "      <th>Vol.</th>\n",
       "      <th>Change %</th>\n",
       "    </tr>\n",
       "    <tr>\n",
       "      <th>Date</th>\n",
       "      <th></th>\n",
       "      <th></th>\n",
       "      <th></th>\n",
       "      <th></th>\n",
       "      <th></th>\n",
       "      <th></th>\n",
       "    </tr>\n",
       "  </thead>\n",
       "  <tbody>\n",
       "    <tr>\n",
       "      <th>2010-07-18</th>\n",
       "      <td>0.1</td>\n",
       "      <td>0.0</td>\n",
       "      <td>0.1</td>\n",
       "      <td>0.1</td>\n",
       "      <td>0.08K</td>\n",
       "      <td>0.00%</td>\n",
       "    </tr>\n",
       "    <tr>\n",
       "      <th>2010-07-19</th>\n",
       "      <td>0.1</td>\n",
       "      <td>0.1</td>\n",
       "      <td>0.1</td>\n",
       "      <td>0.1</td>\n",
       "      <td>0.57K</td>\n",
       "      <td>0.00%</td>\n",
       "    </tr>\n",
       "    <tr>\n",
       "      <th>2010-07-20</th>\n",
       "      <td>0.1</td>\n",
       "      <td>0.1</td>\n",
       "      <td>0.1</td>\n",
       "      <td>0.1</td>\n",
       "      <td>0.26K</td>\n",
       "      <td>0.00%</td>\n",
       "    </tr>\n",
       "    <tr>\n",
       "      <th>2010-07-21</th>\n",
       "      <td>0.1</td>\n",
       "      <td>0.1</td>\n",
       "      <td>0.1</td>\n",
       "      <td>0.1</td>\n",
       "      <td>0.58K</td>\n",
       "      <td>0.00%</td>\n",
       "    </tr>\n",
       "    <tr>\n",
       "      <th>2010-07-22</th>\n",
       "      <td>0.1</td>\n",
       "      <td>0.1</td>\n",
       "      <td>0.1</td>\n",
       "      <td>0.1</td>\n",
       "      <td>2.16K</td>\n",
       "      <td>0.00%</td>\n",
       "    </tr>\n",
       "  </tbody>\n",
       "</table>\n",
       "</div>"
      ],
      "text/plain": [
       "           Price Open High  Low   Vol. Change %\n",
       "Date                                           \n",
       "2010-07-18   0.1  0.0  0.1  0.1  0.08K    0.00%\n",
       "2010-07-19   0.1  0.1  0.1  0.1  0.57K    0.00%\n",
       "2010-07-20   0.1  0.1  0.1  0.1  0.26K    0.00%\n",
       "2010-07-21   0.1  0.1  0.1  0.1  0.58K    0.00%\n",
       "2010-07-22   0.1  0.1  0.1  0.1  2.16K    0.00%"
      ]
     },
     "execution_count": 168,
     "metadata": {},
     "output_type": "execute_result"
    }
   ],
   "source": [
    "# order the data by date\n",
    "data_df.sort_index(inplace=True)\n",
    "data_df.head()"
   ]
  },
  {
   "cell_type": "code",
   "execution_count": 169,
   "metadata": {},
   "outputs": [
    {
     "name": "stdout",
     "output_type": "stream",
     "text": [
      "<class 'pandas.core.frame.DataFrame'>\n",
      "DatetimeIndex: 4847 entries, 2010-07-18 to 2023-10-24\n",
      "Data columns (total 6 columns):\n",
      " #   Column    Non-Null Count  Dtype \n",
      "---  ------    --------------  ----- \n",
      " 0   Price     4847 non-null   object\n",
      " 1   Open      4847 non-null   object\n",
      " 2   High      4847 non-null   object\n",
      " 3   Low       4847 non-null   object\n",
      " 4   Vol.      4841 non-null   object\n",
      " 5   Change %  4847 non-null   object\n",
      "dtypes: object(6)\n",
      "memory usage: 265.1+ KB\n"
     ]
    }
   ],
   "source": [
    "data_df.info()"
   ]
  },
  {
   "cell_type": "code",
   "execution_count": 170,
   "metadata": {},
   "outputs": [
    {
     "data": {
      "text/html": [
       "<div>\n",
       "<style scoped>\n",
       "    .dataframe tbody tr th:only-of-type {\n",
       "        vertical-align: middle;\n",
       "    }\n",
       "\n",
       "    .dataframe tbody tr th {\n",
       "        vertical-align: top;\n",
       "    }\n",
       "\n",
       "    .dataframe thead th {\n",
       "        text-align: right;\n",
       "    }\n",
       "</style>\n",
       "<table border=\"1\" class=\"dataframe\">\n",
       "  <thead>\n",
       "    <tr style=\"text-align: right;\">\n",
       "      <th></th>\n",
       "      <th>Price</th>\n",
       "      <th>Open</th>\n",
       "      <th>High</th>\n",
       "      <th>Low</th>\n",
       "      <th>Vol.</th>\n",
       "      <th>Change %</th>\n",
       "    </tr>\n",
       "  </thead>\n",
       "  <tbody>\n",
       "    <tr>\n",
       "      <th>count</th>\n",
       "      <td>4847</td>\n",
       "      <td>4847</td>\n",
       "      <td>4847</td>\n",
       "      <td>4847</td>\n",
       "      <td>4841</td>\n",
       "      <td>4847</td>\n",
       "    </tr>\n",
       "    <tr>\n",
       "      <th>unique</th>\n",
       "      <td>3893</td>\n",
       "      <td>3885</td>\n",
       "      <td>3880</td>\n",
       "      <td>3890</td>\n",
       "      <td>4309</td>\n",
       "      <td>1537</td>\n",
       "    </tr>\n",
       "    <tr>\n",
       "      <th>top</th>\n",
       "      <td>0.1</td>\n",
       "      <td>0.1</td>\n",
       "      <td>0.1</td>\n",
       "      <td>0.1</td>\n",
       "      <td>1.05M</td>\n",
       "      <td>0.00%</td>\n",
       "    </tr>\n",
       "    <tr>\n",
       "      <th>freq</th>\n",
       "      <td>100</td>\n",
       "      <td>100</td>\n",
       "      <td>97</td>\n",
       "      <td>101</td>\n",
       "      <td>6</td>\n",
       "      <td>428</td>\n",
       "    </tr>\n",
       "  </tbody>\n",
       "</table>\n",
       "</div>"
      ],
      "text/plain": [
       "       Price  Open  High   Low   Vol. Change %\n",
       "count   4847  4847  4847  4847   4841     4847\n",
       "unique  3893  3885  3880  3890   4309     1537\n",
       "top      0.1   0.1   0.1   0.1  1.05M    0.00%\n",
       "freq     100   100    97   101      6      428"
      ]
     },
     "execution_count": 170,
     "metadata": {},
     "output_type": "execute_result"
    }
   ],
   "source": [
    "data_df.describe()"
   ]
  },
  {
   "cell_type": "markdown",
   "metadata": {},
   "source": [
    "### preprocess data"
   ]
  },
  {
   "cell_type": "code",
   "execution_count": 171,
   "metadata": {},
   "outputs": [],
   "source": [
    "def remove_colon(number):\n",
    "    \"\"\"\n",
    "    remove column in the price value and convert it to float\n",
    "    example of number to convert: 34,562.9\n",
    "    args:\n",
    "        number: the number to convert\n",
    "    \"\"\"\n",
    "    new_number = ''\n",
    "    for i in number:\n",
    "        if i == ',':\n",
    "            continue\n",
    "        else:\n",
    "            new_number += i            \n",
    "    return float(new_number)"
   ]
  },
  {
   "cell_type": "code",
   "execution_count": 172,
   "metadata": {},
   "outputs": [],
   "source": [
    "data_df.Price = data_df.Price.apply(remove_colon)\n",
    "data_df.Open = data_df.Open.apply(remove_colon)\n",
    "data_df.High = data_df.High.apply(remove_colon)\n",
    "data_df.Low = data_df.Low.apply(remove_colon)\n",
    "# data_df['Vol.'] = data_df['Vol.'].apply(remove_k_and_add_000)"
   ]
  },
  {
   "cell_type": "markdown",
   "metadata": {},
   "source": [
    "#### Visualize the data"
   ]
  },
  {
   "cell_type": "code",
   "execution_count": 173,
   "metadata": {},
   "outputs": [
    {
     "data": {
      "text/plain": [
       "Price       float64\n",
       "Open        float64\n",
       "High        float64\n",
       "Low         float64\n",
       "Vol.         object\n",
       "Change %     object\n",
       "dtype: object"
      ]
     },
     "execution_count": 173,
     "metadata": {},
     "output_type": "execute_result"
    }
   ],
   "source": [
    "data_df.dtypes"
   ]
  },
  {
   "cell_type": "code",
   "execution_count": 174,
   "metadata": {},
   "outputs": [
    {
     "data": {
      "text/plain": [
       "<AxesSubplot: xlabel='Date'>"
      ]
     },
     "execution_count": 174,
     "metadata": {},
     "output_type": "execute_result"
    },
    {
     "data": {
      "image/png": "[encoded data removed]",
      "text/plain": [
       "<Figure size 1000x700 with 1 Axes>"
      ]
     },
     "metadata": {},
     "output_type": "display_data"
    }
   ],
   "source": [
    "# Evolution of the price of bitcoin overtime\n",
    "\n",
    "timestamps_price_df = data_df[['Price']]\n",
    "timestamps_price_df.plot(figsize=(10, 7))"
   ]
  },
  {
   "cell_type": "markdown",
   "metadata": {},
   "source": [
    "#### Split the data into train and test set"
   ]
  },
  {
   "cell_type": "code",
   "execution_count": 175,
   "metadata": {},
   "outputs": [],
   "source": [
    "split_size = int(0.8 * data_df.shape[0])\n",
    "\n",
    "# x_train and y_train\n",
    "x_train, y_train = timestamps_price_df.index[:split_size], timestamps_price_df.Price[:split_size]\n",
    "\n",
    "# x_test and y_test\n",
    "x_test, y_test = timestamps_price_df.index[split_size:], timestamps_price_df.Price[split_size:]"
   ]
  },
  {
   "cell_type": "code",
   "execution_count": 176,
   "metadata": {},
   "outputs": [
    {
     "data": {
      "text/plain": [
       "((3877,), (3877,), (970,), (970,))"
      ]
     },
     "execution_count": 176,
     "metadata": {},
     "output_type": "execute_result"
    }
   ],
   "source": [
    "x_train.shape, y_train.shape, x_test.shape, y_test.shape"
   ]
  },
  {
   "cell_type": "code",
   "execution_count": 177,
   "metadata": {},
   "outputs": [],
   "source": [
    "# visualize train and test data\n",
    "def plot_times_series(timesteps, values, format='.', start=0, end=None, label=None):\n",
    "    \"\"\"\n",
    "    Plots timesteps (a series of points in time) against values\n",
    "    args:\n",
    "    timesteps: array of timestep values\n",
    "    values: array of values accros time\n",
    "    format: style of plot, default = '.'\n",
    "    start: where to start the plot\n",
    "    end: where to end the plot\n",
    "    label: label to show on plot about values, default None\n",
    "    \"\"\"\n",
    "    plt.plot(timesteps[start:end], values[start:end], format, label=label)\n",
    "    plt.xlabel('Time')\n",
    "    plt.ylabel('BTC Price')\n",
    "    if label:\n",
    "        plt.legend(fontsize=14)\n",
    "    plt.grid(True)"
   ]
  },
  {
   "cell_type": "code",
   "execution_count": 178,
   "metadata": {},
   "outputs": [
    {
     "data": {
      "image/png": "[encoded data removed]",
      "text/plain": [
       "<Figure size 1000x700 with 1 Axes>"
      ]
     },
     "metadata": {},
     "output_type": "display_data"
    }
   ],
   "source": [
    "plt.figure(figsize=(10, 7))\n",
    "plot_times_series(timesteps=x_train, values=y_train, label='Train data')\n",
    "plot_times_series(timesteps=x_test, values=y_test, label='Test data')"
   ]
  },
  {
   "cell_type": "markdown",
   "metadata": {},
   "source": [
    "#### Modeling\n",
    "\n",
    "    - Horizon = number of timesteps into the future we are going to predict\n",
    "    - Window size = number of timesteps er are going to use to predict horizon"
   ]
  },
  {
   "cell_type": "markdown",
   "metadata": {},
   "source": [
    "#### Model 0: Naive forecast (baseline)\n",
    "\n",
    "> The prediction at timestep t is equal to the value at timestep t-1 (previous) timestep (this for horizon=1)"
   ]
  },
  {
   "cell_type": "code",
   "execution_count": 179,
   "metadata": {},
   "outputs": [],
   "source": [
    "# MASE implementation\n",
    "def mean_absolute_scaled_error(y_true, y_pred):\n",
    "    \"\"\"\n",
    "    Implementation MASE (assuming no seasonality of data)\n",
    "    \"\"\"\n",
    "    mae = tf.reduce_mean(tf.abs(y_true, y_pred))\n",
    "    \n",
    "    mae_naive_no_season = tf.reduce_mean(tf.abs(y_true[1:] - y_true[:-1]))\n",
    "    \n",
    "    return mae / mae_naive_no_season\n",
    "\n",
    "def evaluate_predictions(y_true, y_pred):\n",
    "    # Make sur float32 datatype (for metric calculations)\n",
    "    y_true = tf.cast(y_true, dtype=tf.float32)\n",
    "    y_pred = tf.cast(y_pred, dtype=tf.float32)\n",
    "    \n",
    "    # Calculate various evaluation metrics\n",
    "    mae = tf.keras.metrics.mean_absolute_error(y_true, y_pred)\n",
    "    mse = tf.keras.metrics.mean_squared_error(y_true, y_pred)\n",
    "    rmse = tf.sqrt(mse)\n",
    "    mape = tf.keras.metrics.mean_absolute_percentage_error(y_true, y_pred)\n",
    "    mase = mean_absolute_scaled_error(y_true, y_pred)\n",
    "    \n",
    "    # Account for different sized metrics(for longer horizon)\n",
    "    if mae.ndim > 0:\n",
    "        mae = tf.reduce_mean(mae)\n",
    "        mse = tf.reduce_mean(mse)\n",
    "        rmse = tf.reduce_mean(rmse)\n",
    "        mape = tf.reduce_mean(mape)\n",
    "        mase = tf.reduce_mean(mase)\n",
    "    return {\n",
    "        'mae': mae.numpy(),\n",
    "        'mse': mse.numpy(),\n",
    "        'rmse': rmse.numpy(),\n",
    "        'mape': mape.numpy(),\n",
    "        'mase': mase.numpy() \n",
    "    }"
   ]
  },
  {
   "cell_type": "markdown",
   "metadata": {},
   "source": [
    "#### Windowing our dataset\n",
    "Window time series dataset to turn it into a supervised learning problem.\n",
    "\n",
    "```\n",
    "[0, 1, 2, 3, 4, 5, 6] -> [7]\n",
    "[1, 2, 3, 4, 5, 6, 7] -> [8]\n",
    "[2, 3, 4, 5, 6, 7, 8] -> [9]\n",
    "```\n",
    "\n",
    "tf.keras.preprocessing.timeseries_dataset_from_array()"
   ]
  },
  {
   "cell_type": "code",
   "execution_count": 180,
   "metadata": {},
   "outputs": [],
   "source": [
    "HORIZON = 1\n",
    "WINDOW_SISE = 7\n",
    "\n",
    "def get_labelled_window(x, horizon=HORIZON):\n",
    "    \"\"\"\n",
    "    create labels for windowed dataset\n",
    "    \n",
    "    eg: for horizon=1\n",
    "    Input: [0, 1, 2, 3, 4, 5, 6, 7] -> Output: ([0, 1, 2, 3, 4, 5, 6], [7])\n",
    "    \"\"\"\n",
    "    return x[:, :-horizon], x[:, -horizon:]\n",
    "\n",
    "def make_windows(x, window_size=WINDOW_SISE, horizon=HORIZON):\n",
    "    \"\"\"\n",
    "    Turn a 1D array into a 2D array of sequential labelled windows of window_size with horizon size labels\n",
    "    \"\"\"\n",
    "    # create a window of specific window_size (add howizon on the end for labelling later)\n",
    "    window_step = np.expand_dims(np.arange(window_size+horizon), axis=0)\n",
    "    # create a 2D array of multiple window steps (minus 1 to account for 0 indexing)\n",
    "    window_indexes = window_step + np.expand_dims(np.arange(len(x) - (window_size + horizon-1)), axis=0).T   \n",
    "    # index on the target array (a time series) with 2D array of multiple window steps\n",
    "    windowed_array = x[window_indexes]\n",
    "    # get the labelled windows\n",
    "    windows, labels = get_labelled_window(windowed_array, horizon=horizon)\n",
    "    return windows, labels\n",
    "\n",
    "def make_train_test_splits(windows, labels, test_split=0.2):\n",
    "    \"\"\"\n",
    "    Splits matching pairs of windows and labels into train and test splits\n",
    "    \"\"\"\n",
    "    split_size = int(len(windows) * (1-test_split))\n",
    "    train_windows = windows[:split_size]\n",
    "    train_labels = labels[:split_size]\n",
    "    test_windows = windows[split_size:]\n",
    "    test_labels = labels[split_size:]\n",
    "    return train_windows, test_windows, train_labels, test_labels"
   ]
  },
  {
   "cell_type": "code",
   "execution_count": 181,
   "metadata": {},
   "outputs": [],
   "source": [
    "full_windows, full_labels = make_windows(timestamps_price_df.Price.values, WINDOW_SISE, HORIZON)"
   ]
  },
  {
   "cell_type": "code",
   "execution_count": 182,
   "metadata": {},
   "outputs": [
    {
     "data": {
      "text/plain": [
       "(3872, 968, 3872, 968)"
      ]
     },
     "execution_count": 182,
     "metadata": {},
     "output_type": "execute_result"
    }
   ],
   "source": [
    "train_windows, test_windows, train_labels, test_labels = make_train_test_splits(full_windows, full_labels)\n",
    "len(train_windows), len(test_windows), len(train_labels), len(test_labels)"
   ]
  },
  {
   "cell_type": "code",
   "execution_count": 183,
   "metadata": {},
   "outputs": [],
   "source": [
    "# to save the model where the val loss is the lowest as the model fluctuate\n",
    "def create_model_checkpoint(model_name, save_path='model_experiments'):\n",
    "    return tf.keras.callbacks.ModelCheckpoint(filepath=os.path.join(save_path, model_name),\n",
    "                                              verbose=0,\n",
    "                                              save_best_only=True)"
   ]
  },
  {
   "cell_type": "markdown",
   "metadata": {},
   "source": [
    "#### Model 1: Dense model (window = 7, horizon = 1)"
   ]
  },
  {
   "cell_type": "code",
   "execution_count": 184,
   "metadata": {},
   "outputs": [
    {
     "name": "stdout",
     "output_type": "stream",
     "text": [
      "Epoch 1/100\n",
      "29/31 [===========================>..] - ETA: 0s - loss: 1526.5247 - mae: 1526.5247 - mse: 15820343.0000"
     ]
    },
    {
     "name": "stderr",
     "output_type": "stream",
     "text": [
      "WARNING:absl:Found untraced functions such as _update_step_xla while saving (showing 1 of 1). These functions will not be directly callable after loading.\n"
     ]
    },
    {
     "name": "stdout",
     "output_type": "stream",
     "text": [
      "INFO:tensorflow:Assets written to: model_experiments\\model_1\\assets\n"
     ]
    },
    {
     "name": "stderr",
     "output_type": "stream",
     "text": [
      "INFO:tensorflow:Assets written to: model_experiments\\model_1\\assets\n"
     ]
    },
    {
     "name": "stdout",
     "output_type": "stream",
     "text": [
      "31/31 [==============================] - 2s 46ms/step - loss: 1482.6040 - mae: 1482.6040 - mse: 15228855.0000 - val_loss: 2758.4539 - val_mae: 2758.4539 - val_mse: 12619706.0000\n",
      "Epoch 2/100\n",
      "30/31 [============================>.] - ETA: 0s - loss: 277.1995 - mae: 277.1995 - mse: 604735.6250"
     ]
    },
    {
     "name": "stderr",
     "output_type": "stream",
     "text": [
      "WARNING:absl:Found untraced functions such as _update_step_xla while saving (showing 1 of 1). These functions will not be directly callable after loading.\n"
     ]
    },
    {
     "name": "stdout",
     "output_type": "stream",
     "text": [
      "INFO:tensorflow:Assets written to: model_experiments\\model_1\\assets\n"
     ]
    },
    {
     "name": "stderr",
     "output_type": "stream",
     "text": [
      "INFO:tensorflow:Assets written to: model_experiments\\model_1\\assets\n"
     ]
    },
    {
     "name": "stdout",
     "output_type": "stream",
     "text": [
      "31/31 [==============================] - 1s 31ms/step - loss: 277.8146 - mae: 277.8146 - mse: 604237.7500 - val_loss: 1685.9353 - val_mae: 1685.9353 - val_mse: 5717478.0000\n",
      "Epoch 3/100\n",
      "27/31 [=========================>....] - ETA: 0s - loss: 234.0907 - mae: 234.0907 - mse: 508724.4375 "
     ]
    },
    {
     "name": "stderr",
     "output_type": "stream",
     "text": [
      "WARNING:absl:Found untraced functions such as _update_step_xla while saving (showing 1 of 1). These functions will not be directly callable after loading.\n"
     ]
    },
    {
     "name": "stdout",
     "output_type": "stream",
     "text": [
      "INFO:tensorflow:Assets written to: model_experiments\\model_1\\assets\n"
     ]
    },
    {
     "name": "stderr",
     "output_type": "stream",
     "text": [
      "INFO:tensorflow:Assets written to: model_experiments\\model_1\\assets\n"
     ]
    },
    {
     "name": "stdout",
     "output_type": "stream",
     "text": [
      "31/31 [==============================] - 1s 30ms/step - loss: 231.0564 - mae: 231.0564 - mse: 487849.1250 - val_loss: 1664.2017 - val_mae: 1664.2017 - val_mse: 5645102.0000\n",
      "Epoch 4/100\n",
      "31/31 [==============================] - 0s 4ms/step - loss: 214.7227 - mae: 214.7227 - mse: 402943.0625 - val_loss: 1744.5961 - val_mae: 1744.5961 - val_mse: 5886911.0000\n",
      "Epoch 5/100\n",
      " 1/31 [..............................] - ETA: 0s - loss: 277.0590 - mae: 277.0590 - mse: 1023440.0000"
     ]
    },
    {
     "name": "stderr",
     "output_type": "stream",
     "text": [
      "WARNING:absl:Found untraced functions such as _update_step_xla while saving (showing 1 of 1). These functions will not be directly callable after loading.\n"
     ]
    },
    {
     "name": "stdout",
     "output_type": "stream",
     "text": [
      "INFO:tensorflow:Assets written to: model_experiments\\model_1\\assets\n"
     ]
    },
    {
     "name": "stderr",
     "output_type": "stream",
     "text": [
      "INFO:tensorflow:Assets written to: model_experiments\\model_1\\assets\n"
     ]
    },
    {
     "name": "stdout",
     "output_type": "stream",
     "text": [
      "31/31 [==============================] - 1s 27ms/step - loss: 207.0147 - mae: 207.0147 - mse: 386061.3438 - val_loss: 1376.1769 - val_mae: 1376.1769 - val_mse: 4073003.0000\n",
      "Epoch 6/100\n",
      "28/31 [==========================>...] - ETA: 0s - loss: 192.2868 - mae: 192.2868 - mse: 337647.4375"
     ]
    },
    {
     "name": "stderr",
     "output_type": "stream",
     "text": [
      "WARNING:absl:Found untraced functions such as _update_step_xla while saving (showing 1 of 1). These functions will not be directly callable after loading.\n"
     ]
    },
    {
     "name": "stdout",
     "output_type": "stream",
     "text": [
      "INFO:tensorflow:Assets written to: model_experiments\\model_1\\assets\n"
     ]
    },
    {
     "name": "stderr",
     "output_type": "stream",
     "text": [
      "INFO:tensorflow:Assets written to: model_experiments\\model_1\\assets\n"
     ]
    },
    {
     "name": "stdout",
     "output_type": "stream",
     "text": [
      "31/31 [==============================] - 1s 31ms/step - loss: 193.8807 - mae: 193.8807 - mse: 339750.0938 - val_loss: 1304.2178 - val_mae: 1304.2178 - val_mse: 3676497.7500\n",
      "Epoch 7/100\n",
      "25/31 [=======================>......] - ETA: 0s - loss: 189.9548 - mae: 189.9548 - mse: 335906.6250"
     ]
    },
    {
     "name": "stderr",
     "output_type": "stream",
     "text": [
      "WARNING:absl:Found untraced functions such as _update_step_xla while saving (showing 1 of 1). These functions will not be directly callable after loading.\n"
     ]
    },
    {
     "name": "stdout",
     "output_type": "stream",
     "text": [
      "INFO:tensorflow:Assets written to: model_experiments\\model_1\\assets\n"
     ]
    },
    {
     "name": "stderr",
     "output_type": "stream",
     "text": [
      "INFO:tensorflow:Assets written to: model_experiments\\model_1\\assets\n"
     ]
    },
    {
     "name": "stdout",
     "output_type": "stream",
     "text": [
      "31/31 [==============================] - 1s 25ms/step - loss: 183.8621 - mae: 183.8621 - mse: 305833.3438 - val_loss: 1213.0630 - val_mae: 1213.0630 - val_mse: 3148582.2500\n",
      "Epoch 8/100\n",
      " 1/31 [..............................] - ETA: 0s - loss: 153.4250 - mae: 153.4250 - mse: 192094.0312"
     ]
    },
    {
     "name": "stderr",
     "output_type": "stream",
     "text": [
      "WARNING:absl:Found untraced functions such as _update_step_xla while saving (showing 1 of 1). These functions will not be directly callable after loading.\n"
     ]
    },
    {
     "name": "stdout",
     "output_type": "stream",
     "text": [
      "INFO:tensorflow:Assets written to: model_experiments\\model_1\\assets\n"
     ]
    },
    {
     "name": "stderr",
     "output_type": "stream",
     "text": [
      "INFO:tensorflow:Assets written to: model_experiments\\model_1\\assets\n"
     ]
    },
    {
     "name": "stdout",
     "output_type": "stream",
     "text": [
      "31/31 [==============================] - 1s 26ms/step - loss: 179.2832 - mae: 179.2832 - mse: 271550.1875 - val_loss: 1146.0044 - val_mae: 1146.0044 - val_mse: 2800153.7500\n",
      "Epoch 9/100\n",
      "31/31 [==============================] - 0s 4ms/step - loss: 163.4532 - mae: 163.4532 - mse: 249244.5938 - val_loss: 1149.3097 - val_mae: 1149.3097 - val_mse: 2824241.7500\n",
      "Epoch 10/100\n",
      "28/31 [==========================>...] - ETA: 0s - loss: 160.7141 - mae: 160.7141 - mse: 233941.3906"
     ]
    },
    {
     "name": "stderr",
     "output_type": "stream",
     "text": [
      "WARNING:absl:Found untraced functions such as _update_step_xla while saving (showing 1 of 1). These functions will not be directly callable after loading.\n"
     ]
    },
    {
     "name": "stdout",
     "output_type": "stream",
     "text": [
      "INFO:tensorflow:Assets written to: model_experiments\\model_1\\assets\n"
     ]
    },
    {
     "name": "stderr",
     "output_type": "stream",
     "text": [
      "INFO:tensorflow:Assets written to: model_experiments\\model_1\\assets\n"
     ]
    },
    {
     "name": "stdout",
     "output_type": "stream",
     "text": [
      "31/31 [==============================] - 1s 27ms/step - loss: 158.3869 - mae: 158.3869 - mse: 224273.3906 - val_loss: 1098.0215 - val_mae: 1098.0215 - val_mse: 2589811.5000\n",
      "Epoch 11/100\n",
      "28/31 [==========================>...] - ETA: 0s - loss: 160.2742 - mae: 160.2742 - mse: 229132.0312"
     ]
    },
    {
     "name": "stderr",
     "output_type": "stream",
     "text": [
      "WARNING:absl:Found untraced functions such as _update_step_xla while saving (showing 1 of 1). These functions will not be directly callable after loading.\n"
     ]
    },
    {
     "name": "stdout",
     "output_type": "stream",
     "text": [
      "INFO:tensorflow:Assets written to: model_experiments\\model_1\\assets\n"
     ]
    },
    {
     "name": "stderr",
     "output_type": "stream",
     "text": [
      "INFO:tensorflow:Assets written to: model_experiments\\model_1\\assets\n"
     ]
    },
    {
     "name": "stdout",
     "output_type": "stream",
     "text": [
      "31/31 [==============================] - 1s 25ms/step - loss: 159.9152 - mae: 159.9152 - mse: 226921.5312 - val_loss: 1093.7572 - val_mae: 1093.7572 - val_mse: 2449037.5000\n",
      "Epoch 12/100\n",
      "31/31 [==============================] - ETA: 0s - loss: 146.1281 - mae: 146.1281 - mse: 194211.8750"
     ]
    },
    {
     "name": "stderr",
     "output_type": "stream",
     "text": [
      "WARNING:absl:Found untraced functions such as _update_step_xla while saving (showing 1 of 1). These functions will not be directly callable after loading.\n"
     ]
    },
    {
     "name": "stdout",
     "output_type": "stream",
     "text": [
      "INFO:tensorflow:Assets written to: model_experiments\\model_1\\assets\n"
     ]
    },
    {
     "name": "stderr",
     "output_type": "stream",
     "text": [
      "INFO:tensorflow:Assets written to: model_experiments\\model_1\\assets\n"
     ]
    },
    {
     "name": "stdout",
     "output_type": "stream",
     "text": [
      "31/31 [==============================] - 1s 25ms/step - loss: 146.1281 - mae: 146.1281 - mse: 194211.8750 - val_loss: 1027.7563 - val_mae: 1027.7563 - val_mse: 2262976.7500\n",
      "Epoch 13/100\n",
      "29/31 [===========================>..] - ETA: 0s - loss: 144.0883 - mae: 144.0883 - mse: 194062.5000"
     ]
    },
    {
     "name": "stderr",
     "output_type": "stream",
     "text": [
      "WARNING:absl:Found untraced functions such as _update_step_xla while saving (showing 1 of 1). These functions will not be directly callable after loading.\n"
     ]
    },
    {
     "name": "stdout",
     "output_type": "stream",
     "text": [
      "INFO:tensorflow:Assets written to: model_experiments\\model_1\\assets\n"
     ]
    },
    {
     "name": "stderr",
     "output_type": "stream",
     "text": [
      "INFO:tensorflow:Assets written to: model_experiments\\model_1\\assets\n"
     ]
    },
    {
     "name": "stdout",
     "output_type": "stream",
     "text": [
      "31/31 [==============================] - 1s 26ms/step - loss: 141.5719 - mae: 141.5719 - mse: 187467.3906 - val_loss: 1025.5530 - val_mae: 1025.5530 - val_mse: 2281022.5000\n",
      "Epoch 14/100\n",
      "31/31 [==============================] - 0s 5ms/step - loss: 141.2914 - mae: 141.2914 - mse: 187907.3594 - val_loss: 1108.7115 - val_mae: 1108.7115 - val_mse: 2560464.7500\n",
      "Epoch 15/100\n",
      "31/31 [==============================] - 0s 4ms/step - loss: 133.0689 - mae: 133.0689 - mse: 167506.9531 - val_loss: 1033.7700 - val_mae: 1033.7700 - val_mse: 2290217.7500\n",
      "Epoch 16/100\n",
      " 1/31 [..............................] - ETA: 0s - loss: 179.7226 - mae: 179.7226 - mse: 441744.6875"
     ]
    },
    {
     "name": "stderr",
     "output_type": "stream",
     "text": [
      "WARNING:absl:Found untraced functions such as _update_step_xla while saving (showing 1 of 1). These functions will not be directly callable after loading.\n"
     ]
    },
    {
     "name": "stdout",
     "output_type": "stream",
     "text": [
      "INFO:tensorflow:Assets written to: model_experiments\\model_1\\assets\n"
     ]
    },
    {
     "name": "stderr",
     "output_type": "stream",
     "text": [
      "INFO:tensorflow:Assets written to: model_experiments\\model_1\\assets\n"
     ]
    },
    {
     "name": "stdout",
     "output_type": "stream",
     "text": [
      "31/31 [==============================] - 1s 24ms/step - loss: 139.2595 - mae: 139.2595 - mse: 181469.3750 - val_loss: 960.9663 - val_mae: 960.9663 - val_mse: 2031205.8750\n",
      "Epoch 17/100\n",
      "31/31 [==============================] - 0s 4ms/step - loss: 134.0302 - mae: 134.0302 - mse: 166991.4375 - val_loss: 1117.6106 - val_mae: 1117.6106 - val_mse: 2400967.5000\n",
      "Epoch 18/100\n",
      "31/31 [==============================] - 0s 3ms/step - loss: 133.1344 - mae: 133.1344 - mse: 166619.4688 - val_loss: 988.6407 - val_mae: 988.6407 - val_mse: 2032091.0000\n",
      "Epoch 19/100\n",
      "31/31 [==============================] - 0s 4ms/step - loss: 140.0533 - mae: 140.0533 - mse: 165014.4688 - val_loss: 1128.5593 - val_mae: 1128.5593 - val_mse: 2413942.5000\n",
      "Epoch 20/100\n",
      "31/31 [==============================] - 0s 3ms/step - loss: 134.2169 - mae: 134.2169 - mse: 173779.3125 - val_loss: 1027.0038 - val_mae: 1027.0038 - val_mse: 2227384.5000\n",
      "Epoch 21/100\n",
      "31/31 [==============================] - 0s 3ms/step - loss: 146.0741 - mae: 146.0741 - mse: 192860.4375 - val_loss: 1028.8138 - val_mae: 1028.8138 - val_mse: 2120866.0000\n",
      "Epoch 22/100\n",
      "29/31 [===========================>..] - ETA: 0s - loss: 124.5742 - mae: 124.5742 - mse: 146966.9844"
     ]
    },
    {
     "name": "stderr",
     "output_type": "stream",
     "text": [
      "WARNING:absl:Found untraced functions such as _update_step_xla while saving (showing 1 of 1). These functions will not be directly callable after loading.\n"
     ]
    },
    {
     "name": "stdout",
     "output_type": "stream",
     "text": [
      "INFO:tensorflow:Assets written to: model_experiments\\model_1\\assets\n"
     ]
    },
    {
     "name": "stderr",
     "output_type": "stream",
     "text": [
      "INFO:tensorflow:Assets written to: model_experiments\\model_1\\assets\n"
     ]
    },
    {
     "name": "stdout",
     "output_type": "stream",
     "text": [
      "31/31 [==============================] - 1s 24ms/step - loss: 125.0131 - mae: 125.0131 - mse: 148209.8438 - val_loss: 958.9791 - val_mae: 958.9791 - val_mse: 2013189.2500\n",
      "Epoch 23/100\n",
      "25/31 [=======================>......] - ETA: 0s - loss: 121.8552 - mae: 121.8552 - mse: 157808.2031"
     ]
    },
    {
     "name": "stderr",
     "output_type": "stream",
     "text": [
      "WARNING:absl:Found untraced functions such as _update_step_xla while saving (showing 1 of 1). These functions will not be directly callable after loading.\n"
     ]
    },
    {
     "name": "stdout",
     "output_type": "stream",
     "text": [
      "INFO:tensorflow:Assets written to: model_experiments\\model_1\\assets\n"
     ]
    },
    {
     "name": "stderr",
     "output_type": "stream",
     "text": [
      "INFO:tensorflow:Assets written to: model_experiments\\model_1\\assets\n"
     ]
    },
    {
     "name": "stdout",
     "output_type": "stream",
     "text": [
      "31/31 [==============================] - 1s 32ms/step - loss: 122.3827 - mae: 122.3827 - mse: 152098.0938 - val_loss: 958.9023 - val_mae: 958.9023 - val_mse: 2008027.3750\n",
      "Epoch 24/100\n",
      "31/31 [==============================] - 0s 4ms/step - loss: 123.0136 - mae: 123.0136 - mse: 152108.9531 - val_loss: 973.0495 - val_mae: 973.0495 - val_mse: 1964874.5000\n",
      "Epoch 25/100\n",
      "29/31 [===========================>..] - ETA: 0s - loss: 121.9586 - mae: 121.9586 - mse: 143224.1562"
     ]
    },
    {
     "name": "stderr",
     "output_type": "stream",
     "text": [
      "WARNING:absl:Found untraced functions such as _update_step_xla while saving (showing 1 of 1). These functions will not be directly callable after loading.\n"
     ]
    },
    {
     "name": "stdout",
     "output_type": "stream",
     "text": [
      "INFO:tensorflow:Assets written to: model_experiments\\model_1\\assets\n"
     ]
    },
    {
     "name": "stderr",
     "output_type": "stream",
     "text": [
      "INFO:tensorflow:Assets written to: model_experiments\\model_1\\assets\n"
     ]
    },
    {
     "name": "stdout",
     "output_type": "stream",
     "text": [
      "31/31 [==============================] - 1s 30ms/step - loss: 122.7377 - mae: 122.7377 - mse: 145498.4375 - val_loss: 897.3157 - val_mae: 897.3157 - val_mse: 1796655.6250\n",
      "Epoch 26/100\n",
      "18/31 [================>.............] - ETA: 0s - loss: 120.6717 - mae: 120.6717 - mse: 151321.4688"
     ]
    },
    {
     "name": "stderr",
     "output_type": "stream",
     "text": [
      "WARNING:absl:Found untraced functions such as _update_step_xla while saving (showing 1 of 1). These functions will not be directly callable after loading.\n"
     ]
    },
    {
     "name": "stdout",
     "output_type": "stream",
     "text": [
      "INFO:tensorflow:Assets written to: model_experiments\\model_1\\assets\n"
     ]
    },
    {
     "name": "stderr",
     "output_type": "stream",
     "text": [
      "INFO:tensorflow:Assets written to: model_experiments\\model_1\\assets\n"
     ]
    },
    {
     "name": "stdout",
     "output_type": "stream",
     "text": [
      "31/31 [==============================] - 1s 28ms/step - loss: 119.9148 - mae: 119.9148 - mse: 141390.4062 - val_loss: 883.5554 - val_mae: 883.5554 - val_mse: 1788916.8750\n",
      "Epoch 27/100\n",
      "31/31 [==============================] - 0s 4ms/step - loss: 130.0167 - mae: 130.0167 - mse: 160761.0938 - val_loss: 895.4783 - val_mae: 895.4783 - val_mse: 1784271.6250\n",
      "Epoch 28/100\n",
      "31/31 [==============================] - 0s 4ms/step - loss: 119.6674 - mae: 119.6674 - mse: 142889.2969 - val_loss: 1255.8582 - val_mae: 1255.8582 - val_mse: 2916254.7500\n",
      "Epoch 29/100\n",
      "31/31 [==============================] - 0s 4ms/step - loss: 123.5378 - mae: 123.5378 - mse: 141599.9062 - val_loss: 910.4644 - val_mae: 910.4644 - val_mse: 1858558.3750\n",
      "Epoch 30/100\n",
      "29/31 [===========================>..] - ETA: 0s - loss: 126.3004 - mae: 126.3004 - mse: 148439.3438"
     ]
    },
    {
     "name": "stderr",
     "output_type": "stream",
     "text": [
      "WARNING:absl:Found untraced functions such as _update_step_xla while saving (showing 1 of 1). These functions will not be directly callable after loading.\n"
     ]
    },
    {
     "name": "stdout",
     "output_type": "stream",
     "text": [
      "INFO:tensorflow:Assets written to: model_experiments\\model_1\\assets\n"
     ]
    },
    {
     "name": "stderr",
     "output_type": "stream",
     "text": [
      "INFO:tensorflow:Assets written to: model_experiments\\model_1\\assets\n"
     ]
    },
    {
     "name": "stdout",
     "output_type": "stream",
     "text": [
      "31/31 [==============================] - 1s 28ms/step - loss: 125.6227 - mae: 125.6227 - mse: 145678.1875 - val_loss: 880.6219 - val_mae: 880.6219 - val_mse: 1778922.7500\n",
      "Epoch 31/100\n",
      "28/31 [==========================>...] - ETA: 0s - loss: 125.6072 - mae: 125.6072 - mse: 148822.8125"
     ]
    },
    {
     "name": "stderr",
     "output_type": "stream",
     "text": [
      "WARNING:absl:Found untraced functions such as _update_step_xla while saving (showing 1 of 1). These functions will not be directly callable after loading.\n"
     ]
    },
    {
     "name": "stdout",
     "output_type": "stream",
     "text": [
      "INFO:tensorflow:Assets written to: model_experiments\\model_1\\assets\n"
     ]
    },
    {
     "name": "stderr",
     "output_type": "stream",
     "text": [
      "INFO:tensorflow:Assets written to: model_experiments\\model_1\\assets\n"
     ]
    },
    {
     "name": "stdout",
     "output_type": "stream",
     "text": [
      "31/31 [==============================] - 1s 28ms/step - loss: 124.2722 - mae: 124.2722 - mse: 143208.2656 - val_loss: 877.5756 - val_mae: 877.5756 - val_mse: 1740546.2500\n",
      "Epoch 32/100\n",
      "27/31 [=========================>....] - ETA: 0s - loss: 120.0985 - mae: 120.0985 - mse: 141025.1719"
     ]
    },
    {
     "name": "stderr",
     "output_type": "stream",
     "text": [
      "WARNING:absl:Found untraced functions such as _update_step_xla while saving (showing 1 of 1). These functions will not be directly callable after loading.\n"
     ]
    },
    {
     "name": "stdout",
     "output_type": "stream",
     "text": [
      "INFO:tensorflow:Assets written to: model_experiments\\model_1\\assets\n"
     ]
    },
    {
     "name": "stderr",
     "output_type": "stream",
     "text": [
      "INFO:tensorflow:Assets written to: model_experiments\\model_1\\assets\n"
     ]
    },
    {
     "name": "stdout",
     "output_type": "stream",
     "text": [
      "31/31 [==============================] - 1s 30ms/step - loss: 119.6474 - mae: 119.6474 - mse: 141916.4062 - val_loss: 858.7725 - val_mae: 858.7725 - val_mse: 1716557.1250\n",
      "Epoch 33/100\n",
      "31/31 [==============================] - 0s 5ms/step - loss: 117.0894 - mae: 117.0894 - mse: 138176.5781 - val_loss: 862.2036 - val_mae: 862.2036 - val_mse: 1729461.1250\n",
      "Epoch 34/100\n",
      "24/31 [======================>.......] - ETA: 0s - loss: 123.0105 - mae: 123.0105 - mse: 138754.7656"
     ]
    },
    {
     "name": "stderr",
     "output_type": "stream",
     "text": [
      "WARNING:absl:Found untraced functions such as _update_step_xla while saving (showing 1 of 1). These functions will not be directly callable after loading.\n"
     ]
    },
    {
     "name": "stdout",
     "output_type": "stream",
     "text": [
      "INFO:tensorflow:Assets written to: model_experiments\\model_1\\assets\n"
     ]
    },
    {
     "name": "stderr",
     "output_type": "stream",
     "text": [
      "INFO:tensorflow:Assets written to: model_experiments\\model_1\\assets\n"
     ]
    },
    {
     "name": "stdout",
     "output_type": "stream",
     "text": [
      "31/31 [==============================] - 3s 95ms/step - loss: 124.2783 - mae: 124.2783 - mse: 148304.4844 - val_loss: 856.4183 - val_mae: 856.4183 - val_mse: 1700742.2500\n",
      "Epoch 35/100\n",
      "25/31 [=======================>......] - ETA: 0s - loss: 131.4631 - mae: 131.4631 - mse: 164909.6875"
     ]
    },
    {
     "name": "stderr",
     "output_type": "stream",
     "text": [
      "WARNING:absl:Found untraced functions such as _update_step_xla while saving (showing 1 of 1). These functions will not be directly callable after loading.\n"
     ]
    },
    {
     "name": "stdout",
     "output_type": "stream",
     "text": [
      "INFO:tensorflow:Assets written to: model_experiments\\model_1\\assets\n"
     ]
    },
    {
     "name": "stderr",
     "output_type": "stream",
     "text": [
      "INFO:tensorflow:Assets written to: model_experiments\\model_1\\assets\n"
     ]
    },
    {
     "name": "stdout",
     "output_type": "stream",
     "text": [
      "31/31 [==============================] - 1s 24ms/step - loss: 126.9653 - mae: 126.9653 - mse: 149488.6719 - val_loss: 850.8156 - val_mae: 850.8156 - val_mse: 1698407.1250\n",
      "Epoch 36/100\n",
      "31/31 [==============================] - 0s 5ms/step - loss: 123.9835 - mae: 123.9835 - mse: 145263.5156 - val_loss: 1091.3000 - val_mae: 1091.3000 - val_mse: 2257632.2500\n",
      "Epoch 37/100\n",
      "31/31 [==============================] - 0s 3ms/step - loss: 124.1627 - mae: 124.1627 - mse: 143802.4688 - val_loss: 887.2029 - val_mae: 887.2029 - val_mse: 1748140.0000\n",
      "Epoch 38/100\n",
      "31/31 [==============================] - 0s 4ms/step - loss: 117.4892 - mae: 117.4892 - mse: 138621.4688 - val_loss: 856.3626 - val_mae: 856.3626 - val_mse: 1693441.2500\n",
      "Epoch 39/100\n",
      "31/31 [==============================] - 0s 4ms/step - loss: 129.6201 - mae: 129.6201 - mse: 148467.9062 - val_loss: 1278.0979 - val_mae: 1278.0979 - val_mse: 2950557.5000\n",
      "Epoch 40/100\n",
      "31/31 [==============================] - 0s 4ms/step - loss: 117.5401 - mae: 117.5401 - mse: 135916.7031 - val_loss: 916.3491 - val_mae: 916.3491 - val_mse: 1807427.1250\n",
      "Epoch 41/100\n",
      "31/31 [==============================] - 0s 5ms/step - loss: 126.6111 - mae: 126.6111 - mse: 147521.1562 - val_loss: 1205.8109 - val_mae: 1205.8109 - val_mse: 2696846.2500\n",
      "Epoch 42/100\n",
      "23/31 [=====================>........] - ETA: 0s - loss: 117.3359 - mae: 117.3359 - mse: 118696.3906"
     ]
    },
    {
     "name": "stderr",
     "output_type": "stream",
     "text": [
      "WARNING:absl:Found untraced functions such as _update_step_xla while saving (showing 1 of 1). These functions will not be directly callable after loading.\n"
     ]
    },
    {
     "name": "stdout",
     "output_type": "stream",
     "text": [
      "INFO:tensorflow:Assets written to: model_experiments\\model_1\\assets\n"
     ]
    },
    {
     "name": "stderr",
     "output_type": "stream",
     "text": [
      "INFO:tensorflow:Assets written to: model_experiments\\model_1\\assets\n"
     ]
    },
    {
     "name": "stdout",
     "output_type": "stream",
     "text": [
      "31/31 [==============================] - 1s 33ms/step - loss: 118.7169 - mae: 118.7169 - mse: 139699.0469 - val_loss: 840.5868 - val_mae: 840.5868 - val_mse: 1667929.7500\n",
      "Epoch 43/100\n",
      "31/31 [==============================] - 0s 5ms/step - loss: 115.2115 - mae: 115.2115 - mse: 133775.0312 - val_loss: 841.3300 - val_mae: 841.3300 - val_mse: 1666552.3750\n",
      "Epoch 44/100\n",
      "31/31 [==============================] - 0s 5ms/step - loss: 114.6043 - mae: 114.6043 - mse: 133053.0312 - val_loss: 863.1097 - val_mae: 863.1097 - val_mse: 1728627.8750\n",
      "Epoch 45/100\n",
      "31/31 [==============================] - 0s 7ms/step - loss: 114.0111 - mae: 114.0111 - mse: 129574.5312 - val_loss: 877.9041 - val_mae: 877.9041 - val_mse: 1725173.5000\n",
      "Epoch 46/100\n",
      "31/31 [==============================] - 0s 4ms/step - loss: 116.3704 - mae: 116.3704 - mse: 134938.3906 - val_loss: 851.3730 - val_mae: 851.3730 - val_mse: 1677212.3750\n",
      "Epoch 47/100\n",
      "31/31 [==============================] - 0s 5ms/step - loss: 127.8439 - mae: 127.8439 - mse: 149936.9375 - val_loss: 1144.6605 - val_mae: 1144.6605 - val_mse: 2408193.2500\n",
      "Epoch 48/100\n",
      "31/31 [==============================] - 0s 5ms/step - loss: 125.7136 - mae: 125.7136 - mse: 149303.3594 - val_loss: 848.5246 - val_mae: 848.5246 - val_mse: 1672203.7500\n",
      "Epoch 49/100\n",
      "31/31 [==============================] - 0s 5ms/step - loss: 117.3074 - mae: 117.3074 - mse: 136351.6094 - val_loss: 873.3472 - val_mae: 873.3472 - val_mse: 1747919.2500\n",
      "Epoch 50/100\n",
      "31/31 [==============================] - 0s 4ms/step - loss: 121.3247 - mae: 121.3247 - mse: 138070.5469 - val_loss: 1008.1589 - val_mae: 1008.1589 - val_mse: 2084332.7500\n",
      "Epoch 51/100\n",
      "31/31 [==============================] - 0s 4ms/step - loss: 128.8635 - mae: 128.8635 - mse: 145112.6875 - val_loss: 900.7800 - val_mae: 900.7800 - val_mse: 1770525.6250\n",
      "Epoch 52/100\n",
      "31/31 [==============================] - 0s 5ms/step - loss: 114.3881 - mae: 114.3881 - mse: 127478.1094 - val_loss: 978.8801 - val_mae: 978.8801 - val_mse: 2002841.0000\n",
      "Epoch 53/100\n",
      "24/31 [======================>.......] - ETA: 0s - loss: 110.5834 - mae: 110.5834 - mse: 125959.9922"
     ]
    },
    {
     "name": "stderr",
     "output_type": "stream",
     "text": [
      "WARNING:absl:Found untraced functions such as _update_step_xla while saving (showing 1 of 1). These functions will not be directly callable after loading.\n"
     ]
    },
    {
     "name": "stdout",
     "output_type": "stream",
     "text": [
      "INFO:tensorflow:Assets written to: model_experiments\\model_1\\assets\n"
     ]
    },
    {
     "name": "stderr",
     "output_type": "stream",
     "text": [
      "INFO:tensorflow:Assets written to: model_experiments\\model_1\\assets\n"
     ]
    },
    {
     "name": "stdout",
     "output_type": "stream",
     "text": [
      "31/31 [==============================] - 1s 31ms/step - loss: 113.3694 - mae: 113.3694 - mse: 126776.8281 - val_loss: 835.2715 - val_mae: 835.2715 - val_mse: 1650082.0000\n",
      "Epoch 54/100\n",
      "31/31 [==============================] - 0s 7ms/step - loss: 116.8548 - mae: 116.8548 - mse: 135342.2188 - val_loss: 836.5182 - val_mae: 836.5182 - val_mse: 1666739.7500\n",
      "Epoch 55/100\n",
      "31/31 [==============================] - 0s 3ms/step - loss: 115.7749 - mae: 115.7749 - mse: 130401.5391 - val_loss: 847.7432 - val_mae: 847.7432 - val_mse: 1669014.8750\n",
      "Epoch 56/100\n",
      "28/31 [==========================>...] - ETA: 0s - loss: 115.6190 - mae: 115.6190 - mse: 138674.9688"
     ]
    },
    {
     "name": "stderr",
     "output_type": "stream",
     "text": [
      "WARNING:absl:Found untraced functions such as _update_step_xla while saving (showing 1 of 1). These functions will not be directly callable after loading.\n"
     ]
    },
    {
     "name": "stdout",
     "output_type": "stream",
     "text": [
      "INFO:tensorflow:Assets written to: model_experiments\\model_1\\assets\n"
     ]
    },
    {
     "name": "stderr",
     "output_type": "stream",
     "text": [
      "INFO:tensorflow:Assets written to: model_experiments\\model_1\\assets\n"
     ]
    },
    {
     "name": "stdout",
     "output_type": "stream",
     "text": [
      "31/31 [==============================] - 1s 31ms/step - loss: 115.4291 - mae: 115.4291 - mse: 134023.0625 - val_loss: 828.3756 - val_mae: 828.3756 - val_mse: 1639863.7500\n",
      "Epoch 57/100\n",
      "31/31 [==============================] - 0s 4ms/step - loss: 117.1685 - mae: 117.1685 - mse: 132407.6406 - val_loss: 890.0950 - val_mae: 890.0950 - val_mse: 1780721.3750\n",
      "Epoch 58/100\n",
      "24/31 [======================>.......] - ETA: 0s - loss: 122.7328 - mae: 122.7328 - mse: 143388.9844"
     ]
    },
    {
     "name": "stderr",
     "output_type": "stream",
     "text": [
      "WARNING:absl:Found untraced functions such as _update_step_xla while saving (showing 1 of 1). These functions will not be directly callable after loading.\n"
     ]
    },
    {
     "name": "stdout",
     "output_type": "stream",
     "text": [
      "INFO:tensorflow:Assets written to: model_experiments\\model_1\\assets\n"
     ]
    },
    {
     "name": "stderr",
     "output_type": "stream",
     "text": [
      "INFO:tensorflow:Assets written to: model_experiments\\model_1\\assets\n"
     ]
    },
    {
     "name": "stdout",
     "output_type": "stream",
     "text": [
      "31/31 [==============================] - 1s 29ms/step - loss: 116.7974 - mae: 116.7974 - mse: 129114.7500 - val_loss: 824.3288 - val_mae: 824.3288 - val_mse: 1636055.3750\n",
      "Epoch 59/100\n",
      "31/31 [==============================] - 0s 5ms/step - loss: 116.5433 - mae: 116.5433 - mse: 133840.7500 - val_loss: 891.4944 - val_mae: 891.4944 - val_mse: 1753439.8750\n",
      "Epoch 60/100\n",
      "31/31 [==============================] - 0s 4ms/step - loss: 117.7765 - mae: 117.7765 - mse: 131135.2031 - val_loss: 827.5481 - val_mae: 827.5481 - val_mse: 1637560.3750\n",
      "Epoch 61/100\n",
      "31/31 [==============================] - 0s 4ms/step - loss: 115.9826 - mae: 115.9826 - mse: 133877.6406 - val_loss: 953.6785 - val_mae: 953.6785 - val_mse: 1933998.3750\n",
      "Epoch 62/100\n",
      "31/31 [==============================] - 0s 4ms/step - loss: 131.7530 - mae: 131.7530 - mse: 143826.9531 - val_loss: 842.7072 - val_mae: 842.7072 - val_mse: 1675581.2500\n",
      "Epoch 63/100\n",
      "31/31 [==============================] - 0s 4ms/step - loss: 131.9887 - mae: 131.9887 - mse: 154409.7969 - val_loss: 901.4479 - val_mae: 901.4479 - val_mse: 1773766.6250\n",
      "Epoch 64/100\n",
      "31/31 [==============================] - 0s 4ms/step - loss: 121.2553 - mae: 121.2553 - mse: 141790.7656 - val_loss: 840.2394 - val_mae: 840.2394 - val_mse: 1668902.5000\n",
      "Epoch 65/100\n",
      "31/31 [==============================] - 0s 4ms/step - loss: 115.7847 - mae: 115.7847 - mse: 130601.7109 - val_loss: 865.2881 - val_mae: 865.2881 - val_mse: 1721409.0000\n",
      "Epoch 66/100\n",
      "31/31 [==============================] - 0s 6ms/step - loss: 117.7480 - mae: 117.7480 - mse: 133267.5156 - val_loss: 925.2334 - val_mae: 925.2334 - val_mse: 1862654.7500\n",
      "Epoch 67/100\n",
      "31/31 [==============================] - 0s 6ms/step - loss: 122.0349 - mae: 122.0349 - mse: 142770.7500 - val_loss: 1079.1697 - val_mae: 1079.1697 - val_mse: 2277204.7500\n",
      "Epoch 68/100\n",
      "19/31 [=================>............] - ETA: 0s - loss: 147.0219 - mae: 147.0219 - mse: 171246.0781"
     ]
    },
    {
     "name": "stderr",
     "output_type": "stream",
     "text": [
      "WARNING:absl:Found untraced functions such as _update_step_xla while saving (showing 1 of 1). These functions will not be directly callable after loading.\n"
     ]
    },
    {
     "name": "stdout",
     "output_type": "stream",
     "text": [
      "INFO:tensorflow:Assets written to: model_experiments\\model_1\\assets\n"
     ]
    },
    {
     "name": "stderr",
     "output_type": "stream",
     "text": [
      "INFO:tensorflow:Assets written to: model_experiments\\model_1\\assets\n"
     ]
    },
    {
     "name": "stdout",
     "output_type": "stream",
     "text": [
      "31/31 [==============================] - 1s 32ms/step - loss: 132.1883 - mae: 132.1883 - mse: 145246.0156 - val_loss: 823.6282 - val_mae: 823.6282 - val_mse: 1633256.1250\n",
      "Epoch 69/100\n",
      "31/31 [==============================] - 0s 5ms/step - loss: 112.2672 - mae: 112.2672 - mse: 123725.6094 - val_loss: 1357.4146 - val_mae: 1357.4146 - val_mse: 3091089.2500\n",
      "Epoch 70/100\n",
      "31/31 [==============================] - 0s 6ms/step - loss: 126.5047 - mae: 126.5047 - mse: 141504.9844 - val_loss: 824.2325 - val_mae: 824.2325 - val_mse: 1635464.6250\n",
      "Epoch 71/100\n",
      "31/31 [==============================] - 0s 5ms/step - loss: 113.1675 - mae: 113.1675 - mse: 123922.7422 - val_loss: 870.1339 - val_mae: 870.1339 - val_mse: 1709428.1250\n",
      "Epoch 72/100\n",
      "31/31 [==============================] - 0s 4ms/step - loss: 117.4301 - mae: 117.4301 - mse: 135139.1250 - val_loss: 869.9363 - val_mae: 869.9363 - val_mse: 1709136.1250\n",
      "Epoch 73/100\n",
      "31/31 [==============================] - 0s 7ms/step - loss: 121.0909 - mae: 121.0909 - mse: 138582.9844 - val_loss: 968.6113 - val_mae: 968.6113 - val_mse: 1972259.8750\n",
      "Epoch 74/100\n",
      "31/31 [==============================] - 0s 5ms/step - loss: 114.5609 - mae: 114.5609 - mse: 130073.1484 - val_loss: 829.6309 - val_mae: 829.6309 - val_mse: 1636491.0000\n",
      "Epoch 75/100\n",
      "31/31 [==============================] - 0s 5ms/step - loss: 117.9297 - mae: 117.9297 - mse: 127728.2734 - val_loss: 853.4979 - val_mae: 853.4979 - val_mse: 1695785.5000\n",
      "Epoch 76/100\n",
      "31/31 [==============================] - 0s 4ms/step - loss: 114.1220 - mae: 114.1220 - mse: 130768.9609 - val_loss: 1074.0249 - val_mae: 1074.0249 - val_mse: 2262082.7500\n",
      "Epoch 77/100\n",
      "31/31 [==============================] - 0s 4ms/step - loss: 115.9616 - mae: 115.9616 - mse: 125622.5078 - val_loss: 904.7901 - val_mae: 904.7901 - val_mse: 1810424.3750\n",
      "Epoch 78/100\n",
      "31/31 [==============================] - 0s 4ms/step - loss: 112.3991 - mae: 112.3991 - mse: 125008.3750 - val_loss: 827.4346 - val_mae: 827.4346 - val_mse: 1638726.0000\n",
      "Epoch 79/100\n",
      "28/31 [==========================>...] - ETA: 0s - loss: 112.2160 - mae: 112.2160 - mse: 121469.5703"
     ]
    },
    {
     "name": "stderr",
     "output_type": "stream",
     "text": [
      "WARNING:absl:Found untraced functions such as _update_step_xla while saving (showing 1 of 1). These functions will not be directly callable after loading.\n"
     ]
    },
    {
     "name": "stdout",
     "output_type": "stream",
     "text": [
      "INFO:tensorflow:Assets written to: model_experiments\\model_1\\assets\n"
     ]
    },
    {
     "name": "stderr",
     "output_type": "stream",
     "text": [
      "INFO:tensorflow:Assets written to: model_experiments\\model_1\\assets\n"
     ]
    },
    {
     "name": "stdout",
     "output_type": "stream",
     "text": [
      "31/31 [==============================] - 1s 32ms/step - loss: 114.8747 - mae: 114.8747 - mse: 126417.3047 - val_loss: 822.9163 - val_mae: 822.9163 - val_mse: 1628532.8750\n",
      "Epoch 80/100\n",
      "31/31 [==============================] - 0s 5ms/step - loss: 115.3058 - mae: 115.3058 - mse: 129133.2656 - val_loss: 983.6432 - val_mae: 983.6432 - val_mse: 1961561.6250\n",
      "Epoch 81/100\n",
      "31/31 [==============================] - 0s 4ms/step - loss: 118.4484 - mae: 118.4484 - mse: 127209.9688 - val_loss: 842.1611 - val_mae: 842.1611 - val_mse: 1653940.6250\n",
      "Epoch 82/100\n",
      "31/31 [==============================] - 0s 5ms/step - loss: 118.6451 - mae: 118.6451 - mse: 137798.2344 - val_loss: 902.2649 - val_mae: 902.2649 - val_mse: 1802331.3750\n",
      "Epoch 83/100\n",
      "31/31 [==============================] - 0s 5ms/step - loss: 113.4282 - mae: 113.4282 - mse: 127937.5625 - val_loss: 899.9152 - val_mae: 899.9152 - val_mse: 1797319.5000\n",
      "Epoch 84/100\n",
      "31/31 [==============================] - 0s 4ms/step - loss: 116.6050 - mae: 116.6050 - mse: 134036.9375 - val_loss: 884.1832 - val_mae: 884.1832 - val_mse: 1760092.3750\n",
      "Epoch 85/100\n",
      "31/31 [==============================] - 0s 3ms/step - loss: 118.9591 - mae: 118.9591 - mse: 127378.9766 - val_loss: 829.0592 - val_mae: 829.0592 - val_mse: 1641839.5000\n",
      "Epoch 86/100\n",
      "31/31 [==============================] - 0s 4ms/step - loss: 117.5108 - mae: 117.5108 - mse: 135502.7344 - val_loss: 1108.5490 - val_mae: 1108.5490 - val_mse: 2296975.2500\n",
      "Epoch 87/100\n",
      "31/31 [==============================] - 0s 4ms/step - loss: 142.4113 - mae: 142.4113 - mse: 160958.2969 - val_loss: 886.9877 - val_mae: 886.9877 - val_mse: 1769092.6250\n",
      "Epoch 88/100\n",
      "26/31 [========================>.....] - ETA: 0s - loss: 116.9700 - mae: 116.9700 - mse: 122889.4141"
     ]
    },
    {
     "name": "stderr",
     "output_type": "stream",
     "text": [
      "WARNING:absl:Found untraced functions such as _update_step_xla while saving (showing 1 of 1). These functions will not be directly callable after loading.\n"
     ]
    },
    {
     "name": "stdout",
     "output_type": "stream",
     "text": [
      "INFO:tensorflow:Assets written to: model_experiments\\model_1\\assets\n"
     ]
    },
    {
     "name": "stderr",
     "output_type": "stream",
     "text": [
      "INFO:tensorflow:Assets written to: model_experiments\\model_1\\assets\n"
     ]
    },
    {
     "name": "stdout",
     "output_type": "stream",
     "text": [
      "31/31 [==============================] - 1s 27ms/step - loss: 119.2284 - mae: 119.2284 - mse: 133437.8906 - val_loss: 819.4719 - val_mae: 819.4719 - val_mse: 1620772.0000\n",
      "Epoch 89/100\n",
      "31/31 [==============================] - 0s 6ms/step - loss: 110.6365 - mae: 110.6365 - mse: 124676.7656 - val_loss: 831.7011 - val_mae: 831.7011 - val_mse: 1634565.0000\n",
      "Epoch 90/100\n",
      "31/31 [==============================] - 0s 4ms/step - loss: 115.2696 - mae: 115.2696 - mse: 128428.0625 - val_loss: 820.1982 - val_mae: 820.1982 - val_mse: 1620053.2500\n",
      "Epoch 91/100\n",
      "31/31 [==============================] - 0s 4ms/step - loss: 111.7015 - mae: 111.7015 - mse: 123989.6797 - val_loss: 885.6192 - val_mae: 885.6192 - val_mse: 1736326.0000\n",
      "Epoch 92/100\n",
      "31/31 [==============================] - 0s 4ms/step - loss: 116.0741 - mae: 116.0741 - mse: 126498.6094 - val_loss: 853.1979 - val_mae: 853.1979 - val_mse: 1671095.3750\n",
      "Epoch 93/100\n",
      "31/31 [==============================] - 0s 7ms/step - loss: 118.6510 - mae: 118.6510 - mse: 133139.6250 - val_loss: 857.6559 - val_mae: 857.6559 - val_mse: 1679782.5000\n",
      "Epoch 94/100\n",
      "31/31 [==============================] - 0s 4ms/step - loss: 123.5497 - mae: 123.5497 - mse: 142919.9688 - val_loss: 1003.6470 - val_mae: 1003.6470 - val_mse: 2064035.2500\n",
      "Epoch 95/100\n",
      "31/31 [==============================] - 0s 4ms/step - loss: 125.7907 - mae: 125.7907 - mse: 145673.0938 - val_loss: 857.2784 - val_mae: 857.2784 - val_mse: 1678283.6250\n",
      "Epoch 96/100\n",
      "31/31 [==============================] - 0s 4ms/step - loss: 116.8620 - mae: 116.8620 - mse: 128446.7734 - val_loss: 1001.7391 - val_mae: 1001.7391 - val_mse: 2058663.0000\n",
      "Epoch 97/100\n",
      "31/31 [==============================] - 0s 3ms/step - loss: 112.3519 - mae: 112.3519 - mse: 124663.3828 - val_loss: 861.0757 - val_mae: 861.0757 - val_mse: 1708518.0000\n",
      "Epoch 98/100\n",
      "31/31 [==============================] - 0s 5ms/step - loss: 111.9750 - mae: 111.9750 - mse: 120485.6562 - val_loss: 835.7248 - val_mae: 835.7248 - val_mse: 1638010.3750\n",
      "Epoch 99/100\n",
      "31/31 [==============================] - 0s 6ms/step - loss: 115.9581 - mae: 115.9581 - mse: 125281.4375 - val_loss: 884.6219 - val_mae: 884.6219 - val_mse: 1732040.1250\n",
      "Epoch 100/100\n",
      "31/31 [==============================] - 0s 4ms/step - loss: 119.7328 - mae: 119.7328 - mse: 129180.9375 - val_loss: 1310.4253 - val_mae: 1310.4253 - val_mse: 3030698.5000\n"
     ]
    }
   ],
   "source": [
    "# set random seed for as reproductible results as possible\n",
    "tf.random.set_seed(42)\n",
    "\n",
    "model_1 = tf.keras.Sequential([\n",
    "    tf.keras.layers.Dense(128, activation='relu'),\n",
    "    tf.keras.layers.Dense(HORIZON, activation='linear')\n",
    "], name='model_1')\n",
    "\n",
    "model_1.compile(\n",
    "    loss='mae',\n",
    "    optimizer=tf.keras.optimizers.Adam(),\n",
    "    metrics=['mae', 'mse']\n",
    ")\n",
    "\n",
    "history_1 = model_1.fit(\n",
    "    x=train_windows,\n",
    "    y=train_labels,\n",
    "    epochs=100,\n",
    "    verbose=1,\n",
    "    batch_size=128,\n",
    "    validation_data=(test_windows, test_labels),\n",
    "    callbacks=[create_model_checkpoint(model_name=model_1.name)]\n",
    ")"
   ]
  },
  {
   "cell_type": "code",
   "execution_count": 185,
   "metadata": {},
   "outputs": [],
   "source": [
    "model_1_loaded = tf.keras.models.load_model('model_experiments/model_1/')"
   ]
  },
  {
   "cell_type": "code",
   "execution_count": 186,
   "metadata": {},
   "outputs": [
    {
     "name": "stdout",
     "output_type": "stream",
     "text": [
      "31/31 [==============================] - 0s 3ms/step - loss: 819.4719 - mae: 819.4719 - mse: 1620772.0000\n"
     ]
    },
    {
     "data": {
      "text/plain": [
       "[819.4718627929688, 819.4718627929688, 1620772.0]"
      ]
     },
     "execution_count": 186,
     "metadata": {},
     "output_type": "execute_result"
    }
   ],
   "source": [
    "model_1_loaded.evaluate(test_windows, test_labels)"
   ]
  },
  {
   "cell_type": "code",
   "execution_count": 187,
   "metadata": {},
   "outputs": [],
   "source": [
    "def make_preds(model, input_data):\n",
    "    \"\"\"\n",
    "    Use model to make predictions input_data\n",
    "    \"\"\"\n",
    "    forecast = model.predict(input_data)\n",
    "    \n",
    "    return  tf.squeeze(forecast)"
   ]
  },
  {
   "cell_type": "code",
   "execution_count": 188,
   "metadata": {},
   "outputs": [
    {
     "name": "stdout",
     "output_type": "stream",
     "text": [
      "31/31 [==============================] - 0s 2ms/step\n"
     ]
    }
   ],
   "source": [
    "model_1_loaded_preds = make_preds(model_1_loaded, test_windows)"
   ]
  },
  {
   "cell_type": "code",
   "execution_count": 189,
   "metadata": {},
   "outputs": [],
   "source": [
    "model_1_results = evaluate_predictions(tf.squeeze(test_labels), model_1_loaded_preds)"
   ]
  },
  {
   "cell_type": "code",
   "execution_count": 190,
   "metadata": {},
   "outputs": [
    {
     "data": {
      "text/plain": [
       "{'mae': 819.472,\n",
       " 'mse': 1620771.8,\n",
       " 'rmse': 1273.0953,\n",
       " 'mape': 2.2836134,\n",
       " 'mase': 42.008}"
      ]
     },
     "execution_count": 190,
     "metadata": {},
     "output_type": "execute_result"
    }
   ],
   "source": [
    "model_1_results"
   ]
  },
  {
   "cell_type": "code",
   "execution_count": 191,
   "metadata": {},
   "outputs": [
    {
     "data": {
      "image/png": "[encoded data removed]",
      "text/plain": [
       "<Figure size 1000x700 with 1 Axes>"
      ]
     },
     "metadata": {},
     "output_type": "display_data"
    }
   ],
   "source": [
    "offset = 450\n",
    "plt.figure(figsize=(10, 7))\n",
    "plot_times_series(timesteps=x_test[-len(test_windows):],\n",
    "                  values=test_labels[:, 0],\n",
    "                  start=offset,\n",
    "                  label='Test data')\n",
    "\n",
    "plot_times_series(timesteps=x_test[-len(test_windows):],\n",
    "                  values=model_1_loaded_preds,\n",
    "                  start=offset,\n",
    "                  format='-',\n",
    "                  label='model 1 preds data')"
   ]
  },
  {
   "cell_type": "markdown",
   "metadata": {},
   "source": [
    "#### Conv 1D"
   ]
  },
  {
   "cell_type": "code",
   "execution_count": 192,
   "metadata": {},
   "outputs": [],
   "source": [
    "# expand dimension\n",
    "expand_dims_layer = tf.keras.layers.Lambda(lambda x: tf.expand_dims(x, axis=1))"
   ]
  },
  {
   "cell_type": "code",
   "execution_count": 193,
   "metadata": {},
   "outputs": [
    {
     "name": "stderr",
     "output_type": "stream",
     "text": [
      "WARNING:absl:Found untraced functions such as _jit_compiled_convolution_op, _update_step_xla while saving (showing 2 of 2). These functions will not be directly callable after loading.\n"
     ]
    },
    {
     "name": "stdout",
     "output_type": "stream",
     "text": [
      "INFO:tensorflow:Assets written to: model_experiments\\model_2_conv1D\\assets\n"
     ]
    },
    {
     "name": "stderr",
     "output_type": "stream",
     "text": [
      "INFO:tensorflow:Assets written to: model_experiments\\model_2_conv1D\\assets\n",
      "WARNING:absl:Found untraced functions such as _jit_compiled_convolution_op, _update_step_xla while saving (showing 2 of 2). These functions will not be directly callable after loading.\n"
     ]
    },
    {
     "name": "stdout",
     "output_type": "stream",
     "text": [
      "INFO:tensorflow:Assets written to: model_experiments\\model_2_conv1D\\assets\n"
     ]
    },
    {
     "name": "stderr",
     "output_type": "stream",
     "text": [
      "INFO:tensorflow:Assets written to: model_experiments\\model_2_conv1D\\assets\n",
      "WARNING:absl:Found untraced functions such as _jit_compiled_convolution_op, _update_step_xla while saving (showing 2 of 2). These functions will not be directly callable after loading.\n"
     ]
    },
    {
     "name": "stdout",
     "output_type": "stream",
     "text": [
      "INFO:tensorflow:Assets written to: model_experiments\\model_2_conv1D\\assets\n"
     ]
    },
    {
     "name": "stderr",
     "output_type": "stream",
     "text": [
      "INFO:tensorflow:Assets written to: model_experiments\\model_2_conv1D\\assets\n",
      "WARNING:absl:Found untraced functions such as _jit_compiled_convolution_op, _update_step_xla while saving (showing 2 of 2). These functions will not be directly callable after loading.\n"
     ]
    },
    {
     "name": "stdout",
     "output_type": "stream",
     "text": [
      "INFO:tensorflow:Assets written to: model_experiments\\model_2_conv1D\\assets\n"
     ]
    },
    {
     "name": "stderr",
     "output_type": "stream",
     "text": [
      "INFO:tensorflow:Assets written to: model_experiments\\model_2_conv1D\\assets\n",
      "WARNING:absl:Found untraced functions such as _jit_compiled_convolution_op, _update_step_xla while saving (showing 2 of 2). These functions will not be directly callable after loading.\n"
     ]
    },
    {
     "name": "stdout",
     "output_type": "stream",
     "text": [
      "INFO:tensorflow:Assets written to: model_experiments\\model_2_conv1D\\assets\n"
     ]
    },
    {
     "name": "stderr",
     "output_type": "stream",
     "text": [
      "INFO:tensorflow:Assets written to: model_experiments\\model_2_conv1D\\assets\n",
      "WARNING:absl:Found untraced functions such as _jit_compiled_convolution_op, _update_step_xla while saving (showing 2 of 2). These functions will not be directly callable after loading.\n"
     ]
    },
    {
     "name": "stdout",
     "output_type": "stream",
     "text": [
      "INFO:tensorflow:Assets written to: model_experiments\\model_2_conv1D\\assets\n"
     ]
    },
    {
     "name": "stderr",
     "output_type": "stream",
     "text": [
      "INFO:tensorflow:Assets written to: model_experiments\\model_2_conv1D\\assets\n",
      "WARNING:absl:Found untraced functions such as _jit_compiled_convolution_op, _update_step_xla while saving (showing 2 of 2). These functions will not be directly callable after loading.\n"
     ]
    },
    {
     "name": "stdout",
     "output_type": "stream",
     "text": [
      "INFO:tensorflow:Assets written to: model_experiments\\model_2_conv1D\\assets\n"
     ]
    },
    {
     "name": "stderr",
     "output_type": "stream",
     "text": [
      "INFO:tensorflow:Assets written to: model_experiments\\model_2_conv1D\\assets\n",
      "WARNING:absl:Found untraced functions such as _jit_compiled_convolution_op, _update_step_xla while saving (showing 2 of 2). These functions will not be directly callable after loading.\n"
     ]
    },
    {
     "name": "stdout",
     "output_type": "stream",
     "text": [
      "INFO:tensorflow:Assets written to: model_experiments\\model_2_conv1D\\assets\n"
     ]
    },
    {
     "name": "stderr",
     "output_type": "stream",
     "text": [
      "INFO:tensorflow:Assets written to: model_experiments\\model_2_conv1D\\assets\n",
      "WARNING:absl:Found untraced functions such as _jit_compiled_convolution_op, _update_step_xla while saving (showing 2 of 2). These functions will not be directly callable after loading.\n"
     ]
    },
    {
     "name": "stdout",
     "output_type": "stream",
     "text": [
      "INFO:tensorflow:Assets written to: model_experiments\\model_2_conv1D\\assets\n"
     ]
    },
    {
     "name": "stderr",
     "output_type": "stream",
     "text": [
      "INFO:tensorflow:Assets written to: model_experiments\\model_2_conv1D\\assets\n",
      "WARNING:absl:Found untraced functions such as _jit_compiled_convolution_op, _update_step_xla while saving (showing 2 of 2). These functions will not be directly callable after loading.\n"
     ]
    },
    {
     "name": "stdout",
     "output_type": "stream",
     "text": [
      "INFO:tensorflow:Assets written to: model_experiments\\model_2_conv1D\\assets\n"
     ]
    },
    {
     "name": "stderr",
     "output_type": "stream",
     "text": [
      "INFO:tensorflow:Assets written to: model_experiments\\model_2_conv1D\\assets\n",
      "WARNING:absl:Found untraced functions such as _jit_compiled_convolution_op, _update_step_xla while saving (showing 2 of 2). These functions will not be directly callable after loading.\n"
     ]
    },
    {
     "name": "stdout",
     "output_type": "stream",
     "text": [
      "INFO:tensorflow:Assets written to: model_experiments\\model_2_conv1D\\assets\n"
     ]
    },
    {
     "name": "stderr",
     "output_type": "stream",
     "text": [
      "INFO:tensorflow:Assets written to: model_experiments\\model_2_conv1D\\assets\n",
      "WARNING:absl:Found untraced functions such as _jit_compiled_convolution_op, _update_step_xla while saving (showing 2 of 2). These functions will not be directly callable after loading.\n"
     ]
    },
    {
     "name": "stdout",
     "output_type": "stream",
     "text": [
      "INFO:tensorflow:Assets written to: model_experiments\\model_2_conv1D\\assets\n"
     ]
    },
    {
     "name": "stderr",
     "output_type": "stream",
     "text": [
      "INFO:tensorflow:Assets written to: model_experiments\\model_2_conv1D\\assets\n",
      "WARNING:absl:Found untraced functions such as _jit_compiled_convolution_op, _update_step_xla while saving (showing 2 of 2). These functions will not be directly callable after loading.\n"
     ]
    },
    {
     "name": "stdout",
     "output_type": "stream",
     "text": [
      "INFO:tensorflow:Assets written to: model_experiments\\model_2_conv1D\\assets\n"
     ]
    },
    {
     "name": "stderr",
     "output_type": "stream",
     "text": [
      "INFO:tensorflow:Assets written to: model_experiments\\model_2_conv1D\\assets\n",
      "WARNING:absl:Found untraced functions such as _jit_compiled_convolution_op, _update_step_xla while saving (showing 2 of 2). These functions will not be directly callable after loading.\n"
     ]
    },
    {
     "name": "stdout",
     "output_type": "stream",
     "text": [
      "INFO:tensorflow:Assets written to: model_experiments\\model_2_conv1D\\assets\n"
     ]
    },
    {
     "name": "stderr",
     "output_type": "stream",
     "text": [
      "INFO:tensorflow:Assets written to: model_experiments\\model_2_conv1D\\assets\n",
      "WARNING:absl:Found untraced functions such as _jit_compiled_convolution_op, _update_step_xla while saving (showing 2 of 2). These functions will not be directly callable after loading.\n"
     ]
    },
    {
     "name": "stdout",
     "output_type": "stream",
     "text": [
      "INFO:tensorflow:Assets written to: model_experiments\\model_2_conv1D\\assets\n"
     ]
    },
    {
     "name": "stderr",
     "output_type": "stream",
     "text": [
      "INFO:tensorflow:Assets written to: model_experiments\\model_2_conv1D\\assets\n",
      "WARNING:absl:Found untraced functions such as _jit_compiled_convolution_op, _update_step_xla while saving (showing 2 of 2). These functions will not be directly callable after loading.\n"
     ]
    },
    {
     "name": "stdout",
     "output_type": "stream",
     "text": [
      "INFO:tensorflow:Assets written to: model_experiments\\model_2_conv1D\\assets\n"
     ]
    },
    {
     "name": "stderr",
     "output_type": "stream",
     "text": [
      "INFO:tensorflow:Assets written to: model_experiments\\model_2_conv1D\\assets\n",
      "WARNING:absl:Found untraced functions such as _jit_compiled_convolution_op, _update_step_xla while saving (showing 2 of 2). These functions will not be directly callable after loading.\n"
     ]
    },
    {
     "name": "stdout",
     "output_type": "stream",
     "text": [
      "INFO:tensorflow:Assets written to: model_experiments\\model_2_conv1D\\assets\n"
     ]
    },
    {
     "name": "stderr",
     "output_type": "stream",
     "text": [
      "INFO:tensorflow:Assets written to: model_experiments\\model_2_conv1D\\assets\n",
      "WARNING:absl:Found untraced functions such as _jit_compiled_convolution_op, _update_step_xla while saving (showing 2 of 2). These functions will not be directly callable after loading.\n"
     ]
    },
    {
     "name": "stdout",
     "output_type": "stream",
     "text": [
      "INFO:tensorflow:Assets written to: model_experiments\\model_2_conv1D\\assets\n"
     ]
    },
    {
     "name": "stderr",
     "output_type": "stream",
     "text": [
      "INFO:tensorflow:Assets written to: model_experiments\\model_2_conv1D\\assets\n",
      "WARNING:absl:Found untraced functions such as _jit_compiled_convolution_op, _update_step_xla while saving (showing 2 of 2). These functions will not be directly callable after loading.\n"
     ]
    },
    {
     "name": "stdout",
     "output_type": "stream",
     "text": [
      "INFO:tensorflow:Assets written to: model_experiments\\model_2_conv1D\\assets\n"
     ]
    },
    {
     "name": "stderr",
     "output_type": "stream",
     "text": [
      "INFO:tensorflow:Assets written to: model_experiments\\model_2_conv1D\\assets\n",
      "WARNING:absl:Found untraced functions such as _jit_compiled_convolution_op, _update_step_xla while saving (showing 2 of 2). These functions will not be directly callable after loading.\n"
     ]
    },
    {
     "name": "stdout",
     "output_type": "stream",
     "text": [
      "INFO:tensorflow:Assets written to: model_experiments\\model_2_conv1D\\assets\n"
     ]
    },
    {
     "name": "stderr",
     "output_type": "stream",
     "text": [
      "INFO:tensorflow:Assets written to: model_experiments\\model_2_conv1D\\assets\n",
      "WARNING:absl:Found untraced functions such as _jit_compiled_convolution_op, _update_step_xla while saving (showing 2 of 2). These functions will not be directly callable after loading.\n"
     ]
    },
    {
     "name": "stdout",
     "output_type": "stream",
     "text": [
      "INFO:tensorflow:Assets written to: model_experiments\\model_2_conv1D\\assets\n"
     ]
    },
    {
     "name": "stderr",
     "output_type": "stream",
     "text": [
      "INFO:tensorflow:Assets written to: model_experiments\\model_2_conv1D\\assets\n",
      "WARNING:absl:Found untraced functions such as _jit_compiled_convolution_op, _update_step_xla while saving (showing 2 of 2). These functions will not be directly callable after loading.\n"
     ]
    },
    {
     "name": "stdout",
     "output_type": "stream",
     "text": [
      "INFO:tensorflow:Assets written to: model_experiments\\model_2_conv1D\\assets\n"
     ]
    },
    {
     "name": "stderr",
     "output_type": "stream",
     "text": [
      "INFO:tensorflow:Assets written to: model_experiments\\model_2_conv1D\\assets\n",
      "WARNING:absl:Found untraced functions such as _jit_compiled_convolution_op, _update_step_xla while saving (showing 2 of 2). These functions will not be directly callable after loading.\n"
     ]
    },
    {
     "name": "stdout",
     "output_type": "stream",
     "text": [
      "INFO:tensorflow:Assets written to: model_experiments\\model_2_conv1D\\assets\n"
     ]
    },
    {
     "name": "stderr",
     "output_type": "stream",
     "text": [
      "INFO:tensorflow:Assets written to: model_experiments\\model_2_conv1D\\assets\n",
      "WARNING:absl:Found untraced functions such as _jit_compiled_convolution_op, _update_step_xla while saving (showing 2 of 2). These functions will not be directly callable after loading.\n"
     ]
    },
    {
     "name": "stdout",
     "output_type": "stream",
     "text": [
      "INFO:tensorflow:Assets written to: model_experiments\\model_2_conv1D\\assets\n"
     ]
    },
    {
     "name": "stderr",
     "output_type": "stream",
     "text": [
      "INFO:tensorflow:Assets written to: model_experiments\\model_2_conv1D\\assets\n",
      "WARNING:absl:Found untraced functions such as _jit_compiled_convolution_op, _update_step_xla while saving (showing 2 of 2). These functions will not be directly callable after loading.\n"
     ]
    },
    {
     "name": "stdout",
     "output_type": "stream",
     "text": [
      "INFO:tensorflow:Assets written to: model_experiments\\model_2_conv1D\\assets\n"
     ]
    },
    {
     "name": "stderr",
     "output_type": "stream",
     "text": [
      "INFO:tensorflow:Assets written to: model_experiments\\model_2_conv1D\\assets\n",
      "WARNING:absl:Found untraced functions such as _jit_compiled_convolution_op, _update_step_xla while saving (showing 2 of 2). These functions will not be directly callable after loading.\n"
     ]
    },
    {
     "name": "stdout",
     "output_type": "stream",
     "text": [
      "INFO:tensorflow:Assets written to: model_experiments\\model_2_conv1D\\assets\n"
     ]
    },
    {
     "name": "stderr",
     "output_type": "stream",
     "text": [
      "INFO:tensorflow:Assets written to: model_experiments\\model_2_conv1D\\assets\n",
      "WARNING:absl:Found untraced functions such as _jit_compiled_convolution_op, _update_step_xla while saving (showing 2 of 2). These functions will not be directly callable after loading.\n"
     ]
    },
    {
     "name": "stdout",
     "output_type": "stream",
     "text": [
      "INFO:tensorflow:Assets written to: model_experiments\\model_2_conv1D\\assets\n"
     ]
    },
    {
     "name": "stderr",
     "output_type": "stream",
     "text": [
      "INFO:tensorflow:Assets written to: model_experiments\\model_2_conv1D\\assets\n",
      "WARNING:absl:Found untraced functions such as _jit_compiled_convolution_op, _update_step_xla while saving (showing 2 of 2). These functions will not be directly callable after loading.\n"
     ]
    },
    {
     "name": "stdout",
     "output_type": "stream",
     "text": [
      "INFO:tensorflow:Assets written to: model_experiments\\model_2_conv1D\\assets\n"
     ]
    },
    {
     "name": "stderr",
     "output_type": "stream",
     "text": [
      "INFO:tensorflow:Assets written to: model_experiments\\model_2_conv1D\\assets\n"
     ]
    }
   ],
   "source": [
    "tf.random.set_seed(42)\n",
    "model_2 = tf.keras.Sequential([\n",
    "    tf.keras.layers.Lambda(lambda x: tf.expand_dims(x, axis=1)),\n",
    "    tf.keras.layers.Conv1D(filters=128, kernel_size=5, strides=1, padding='causal', activation='relu'),\n",
    "    tf.keras.layers.Dense(HORIZON)\n",
    "], name='model_2_conv1D')\n",
    "\n",
    "model_2.compile(\n",
    "    loss='mae',\n",
    "    optimizer=tf.keras.optimizers.Adam(),\n",
    "    metrics=['mae', 'mse']\n",
    ")\n",
    "\n",
    "history_2 = model_2.fit(\n",
    "    x=train_windows,\n",
    "    y=train_labels,\n",
    "    epochs=100,\n",
    "    verbose=0,\n",
    "    batch_size=128,\n",
    "    validation_data=(test_windows, test_labels),\n",
    "    callbacks=[create_model_checkpoint(model_name=model_2.name)]\n",
    ")"
   ]
  },
  {
   "cell_type": "code",
   "execution_count": 194,
   "metadata": {},
   "outputs": [
    {
     "name": "stdout",
     "output_type": "stream",
     "text": [
      "31/31 [==============================] - 0s 2ms/step - loss: 823.6212 - mae: 823.6212 - mse: 1640675.1250\n"
     ]
    },
    {
     "data": {
      "text/plain": [
       "[823.6212158203125, 823.6212158203125, 1640675.125]"
      ]
     },
     "execution_count": 194,
     "metadata": {},
     "output_type": "execute_result"
    }
   ],
   "source": [
    "model_2_loaded = tf.keras.models.load_model('model_experiments/model_2_conv1D/')\n",
    "model_2_loaded.evaluate(test_windows, test_labels)"
   ]
  },
  {
   "cell_type": "code",
   "execution_count": 195,
   "metadata": {},
   "outputs": [
    {
     "name": "stdout",
     "output_type": "stream",
     "text": [
      "31/31 [==============================] - 0s 1ms/step\n"
     ]
    }
   ],
   "source": [
    "model_2_preds = make_preds(model_2_loaded, test_windows)"
   ]
  },
  {
   "cell_type": "code",
   "execution_count": 196,
   "metadata": {},
   "outputs": [
    {
     "data": {
      "text/plain": [
       "{'mae': 14683.485,\n",
       " 'mse': 340888350.0,\n",
       " 'rmse': 17884.562,\n",
       " 'mape': 47.56548,\n",
       " 'mase': 42.008}"
      ]
     },
     "execution_count": 196,
     "metadata": {},
     "output_type": "execute_result"
    }
   ],
   "source": [
    "model_2_res = evaluate_predictions(test_labels, model_2_preds)\n",
    "model_2_res"
   ]
  },
  {
   "cell_type": "markdown",
   "metadata": {},
   "source": [
    "#### Multivariate time series dataset"
   ]
  },
  {
   "cell_type": "code",
   "execution_count": 197,
   "metadata": {},
   "outputs": [
    {
     "data": {
      "text/html": [
       "<div>\n",
       "<style scoped>\n",
       "    .dataframe tbody tr th:only-of-type {\n",
       "        vertical-align: middle;\n",
       "    }\n",
       "\n",
       "    .dataframe tbody tr th {\n",
       "        vertical-align: top;\n",
       "    }\n",
       "\n",
       "    .dataframe thead th {\n",
       "        text-align: right;\n",
       "    }\n",
       "</style>\n",
       "<table border=\"1\" class=\"dataframe\">\n",
       "  <thead>\n",
       "    <tr style=\"text-align: right;\">\n",
       "      <th></th>\n",
       "      <th>Price</th>\n",
       "      <th>Open</th>\n",
       "      <th>High</th>\n",
       "      <th>Low</th>\n",
       "      <th>Vol.</th>\n",
       "      <th>Change %</th>\n",
       "    </tr>\n",
       "    <tr>\n",
       "      <th>Date</th>\n",
       "      <th></th>\n",
       "      <th></th>\n",
       "      <th></th>\n",
       "      <th></th>\n",
       "      <th></th>\n",
       "      <th></th>\n",
       "    </tr>\n",
       "  </thead>\n",
       "  <tbody>\n",
       "    <tr>\n",
       "      <th>2010-07-18</th>\n",
       "      <td>0.1</td>\n",
       "      <td>0.0</td>\n",
       "      <td>0.1</td>\n",
       "      <td>0.1</td>\n",
       "      <td>0.08K</td>\n",
       "      <td>0.00%</td>\n",
       "    </tr>\n",
       "    <tr>\n",
       "      <th>2010-07-19</th>\n",
       "      <td>0.1</td>\n",
       "      <td>0.1</td>\n",
       "      <td>0.1</td>\n",
       "      <td>0.1</td>\n",
       "      <td>0.57K</td>\n",
       "      <td>0.00%</td>\n",
       "    </tr>\n",
       "    <tr>\n",
       "      <th>2010-07-20</th>\n",
       "      <td>0.1</td>\n",
       "      <td>0.1</td>\n",
       "      <td>0.1</td>\n",
       "      <td>0.1</td>\n",
       "      <td>0.26K</td>\n",
       "      <td>0.00%</td>\n",
       "    </tr>\n",
       "    <tr>\n",
       "      <th>2010-07-21</th>\n",
       "      <td>0.1</td>\n",
       "      <td>0.1</td>\n",
       "      <td>0.1</td>\n",
       "      <td>0.1</td>\n",
       "      <td>0.58K</td>\n",
       "      <td>0.00%</td>\n",
       "    </tr>\n",
       "    <tr>\n",
       "      <th>2010-07-22</th>\n",
       "      <td>0.1</td>\n",
       "      <td>0.1</td>\n",
       "      <td>0.1</td>\n",
       "      <td>0.1</td>\n",
       "      <td>2.16K</td>\n",
       "      <td>0.00%</td>\n",
       "    </tr>\n",
       "  </tbody>\n",
       "</table>\n",
       "</div>"
      ],
      "text/plain": [
       "            Price  Open  High  Low   Vol. Change %\n",
       "Date                                              \n",
       "2010-07-18    0.1   0.0   0.1  0.1  0.08K    0.00%\n",
       "2010-07-19    0.1   0.1   0.1  0.1  0.57K    0.00%\n",
       "2010-07-20    0.1   0.1   0.1  0.1  0.26K    0.00%\n",
       "2010-07-21    0.1   0.1   0.1  0.1  0.58K    0.00%\n",
       "2010-07-22    0.1   0.1   0.1  0.1  2.16K    0.00%"
      ]
     },
     "execution_count": 197,
     "metadata": {},
     "output_type": "execute_result"
    }
   ],
   "source": [
    "data_df.head()"
   ]
  },
  {
   "cell_type": "code",
   "execution_count": 198,
   "metadata": {},
   "outputs": [
    {
     "data": {
      "text/html": [
       "<div>\n",
       "<style scoped>\n",
       "    .dataframe tbody tr th:only-of-type {\n",
       "        vertical-align: middle;\n",
       "    }\n",
       "\n",
       "    .dataframe tbody tr th {\n",
       "        vertical-align: top;\n",
       "    }\n",
       "\n",
       "    .dataframe thead th {\n",
       "        text-align: right;\n",
       "    }\n",
       "</style>\n",
       "<table border=\"1\" class=\"dataframe\">\n",
       "  <thead>\n",
       "    <tr style=\"text-align: right;\">\n",
       "      <th></th>\n",
       "      <th>Price</th>\n",
       "      <th>High</th>\n",
       "      <th>Low</th>\n",
       "    </tr>\n",
       "    <tr>\n",
       "      <th>Date</th>\n",
       "      <th></th>\n",
       "      <th></th>\n",
       "      <th></th>\n",
       "    </tr>\n",
       "  </thead>\n",
       "  <tbody>\n",
       "    <tr>\n",
       "      <th>2010-07-18</th>\n",
       "      <td>0.1</td>\n",
       "      <td>0.1</td>\n",
       "      <td>0.1</td>\n",
       "    </tr>\n",
       "    <tr>\n",
       "      <th>2010-07-19</th>\n",
       "      <td>0.1</td>\n",
       "      <td>0.1</td>\n",
       "      <td>0.1</td>\n",
       "    </tr>\n",
       "    <tr>\n",
       "      <th>2010-07-20</th>\n",
       "      <td>0.1</td>\n",
       "      <td>0.1</td>\n",
       "      <td>0.1</td>\n",
       "    </tr>\n",
       "    <tr>\n",
       "      <th>2010-07-21</th>\n",
       "      <td>0.1</td>\n",
       "      <td>0.1</td>\n",
       "      <td>0.1</td>\n",
       "    </tr>\n",
       "    <tr>\n",
       "      <th>2010-07-22</th>\n",
       "      <td>0.1</td>\n",
       "      <td>0.1</td>\n",
       "      <td>0.1</td>\n",
       "    </tr>\n",
       "  </tbody>\n",
       "</table>\n",
       "</div>"
      ],
      "text/plain": [
       "            Price  High  Low\n",
       "Date                        \n",
       "2010-07-18    0.1   0.1  0.1\n",
       "2010-07-19    0.1   0.1  0.1\n",
       "2010-07-20    0.1   0.1  0.1\n",
       "2010-07-21    0.1   0.1  0.1\n",
       "2010-07-22    0.1   0.1  0.1"
      ]
     },
     "execution_count": 198,
     "metadata": {},
     "output_type": "execute_result"
    }
   ],
   "source": [
    "timestamps_price_high_low_df = data_df[['Price', 'High', 'Low']]\n",
    "timestamps_price_high_low_df.head()"
   ]
  },
  {
   "cell_type": "code",
   "execution_count": 199,
   "metadata": {},
   "outputs": [
    {
     "data": {
      "text/plain": [
       "<AxesSubplot: xlabel='Date'>"
      ]
     },
     "execution_count": 199,
     "metadata": {},
     "output_type": "execute_result"
    },
    {
     "data": {
      "image/png": "[encoded data removed]",
      "text/plain": [
       "<Figure size 1000x700 with 1 Axes>"
      ]
     },
     "metadata": {},
     "output_type": "display_data"
    }
   ],
   "source": [
    "timestamps_price_high_low_df.plot(figsize=(10, 7))"
   ]
  },
  {
   "cell_type": "code",
   "execution_count": 200,
   "metadata": {},
   "outputs": [
    {
     "data": {
      "text/html": [
       "<div>\n",
       "<style scoped>\n",
       "    .dataframe tbody tr th:only-of-type {\n",
       "        vertical-align: middle;\n",
       "    }\n",
       "\n",
       "    .dataframe tbody tr th {\n",
       "        vertical-align: top;\n",
       "    }\n",
       "\n",
       "    .dataframe thead th {\n",
       "        text-align: right;\n",
       "    }\n",
       "</style>\n",
       "<table border=\"1\" class=\"dataframe\">\n",
       "  <thead>\n",
       "    <tr style=\"text-align: right;\">\n",
       "      <th></th>\n",
       "      <th>Price</th>\n",
       "      <th>High</th>\n",
       "      <th>Low</th>\n",
       "      <th>Price+1</th>\n",
       "      <th>High+1</th>\n",
       "      <th>Price+2</th>\n",
       "      <th>High+2</th>\n",
       "      <th>Price+3</th>\n",
       "      <th>High+3</th>\n",
       "      <th>Price+4</th>\n",
       "      <th>High+4</th>\n",
       "      <th>Price+5</th>\n",
       "      <th>High+5</th>\n",
       "      <th>Price+6</th>\n",
       "      <th>High+6</th>\n",
       "      <th>Price+7</th>\n",
       "      <th>High+7</th>\n",
       "    </tr>\n",
       "    <tr>\n",
       "      <th>Date</th>\n",
       "      <th></th>\n",
       "      <th></th>\n",
       "      <th></th>\n",
       "      <th></th>\n",
       "      <th></th>\n",
       "      <th></th>\n",
       "      <th></th>\n",
       "      <th></th>\n",
       "      <th></th>\n",
       "      <th></th>\n",
       "      <th></th>\n",
       "      <th></th>\n",
       "      <th></th>\n",
       "      <th></th>\n",
       "      <th></th>\n",
       "      <th></th>\n",
       "      <th></th>\n",
       "    </tr>\n",
       "  </thead>\n",
       "  <tbody>\n",
       "    <tr>\n",
       "      <th>2010-07-18</th>\n",
       "      <td>0.1</td>\n",
       "      <td>0.1</td>\n",
       "      <td>0.1</td>\n",
       "      <td>NaN</td>\n",
       "      <td>NaN</td>\n",
       "      <td>NaN</td>\n",
       "      <td>NaN</td>\n",
       "      <td>NaN</td>\n",
       "      <td>NaN</td>\n",
       "      <td>NaN</td>\n",
       "      <td>NaN</td>\n",
       "      <td>NaN</td>\n",
       "      <td>NaN</td>\n",
       "      <td>NaN</td>\n",
       "      <td>NaN</td>\n",
       "      <td>NaN</td>\n",
       "      <td>NaN</td>\n",
       "    </tr>\n",
       "    <tr>\n",
       "      <th>2010-07-19</th>\n",
       "      <td>0.1</td>\n",
       "      <td>0.1</td>\n",
       "      <td>0.1</td>\n",
       "      <td>0.1</td>\n",
       "      <td>0.1</td>\n",
       "      <td>NaN</td>\n",
       "      <td>NaN</td>\n",
       "      <td>NaN</td>\n",
       "      <td>NaN</td>\n",
       "      <td>NaN</td>\n",
       "      <td>NaN</td>\n",
       "      <td>NaN</td>\n",
       "      <td>NaN</td>\n",
       "      <td>NaN</td>\n",
       "      <td>NaN</td>\n",
       "      <td>NaN</td>\n",
       "      <td>NaN</td>\n",
       "    </tr>\n",
       "    <tr>\n",
       "      <th>2010-07-20</th>\n",
       "      <td>0.1</td>\n",
       "      <td>0.1</td>\n",
       "      <td>0.1</td>\n",
       "      <td>0.1</td>\n",
       "      <td>0.1</td>\n",
       "      <td>0.1</td>\n",
       "      <td>0.1</td>\n",
       "      <td>NaN</td>\n",
       "      <td>NaN</td>\n",
       "      <td>NaN</td>\n",
       "      <td>NaN</td>\n",
       "      <td>NaN</td>\n",
       "      <td>NaN</td>\n",
       "      <td>NaN</td>\n",
       "      <td>NaN</td>\n",
       "      <td>NaN</td>\n",
       "      <td>NaN</td>\n",
       "    </tr>\n",
       "    <tr>\n",
       "      <th>2010-07-21</th>\n",
       "      <td>0.1</td>\n",
       "      <td>0.1</td>\n",
       "      <td>0.1</td>\n",
       "      <td>0.1</td>\n",
       "      <td>0.1</td>\n",
       "      <td>0.1</td>\n",
       "      <td>0.1</td>\n",
       "      <td>0.1</td>\n",
       "      <td>0.1</td>\n",
       "      <td>NaN</td>\n",
       "      <td>NaN</td>\n",
       "      <td>NaN</td>\n",
       "      <td>NaN</td>\n",
       "      <td>NaN</td>\n",
       "      <td>NaN</td>\n",
       "      <td>NaN</td>\n",
       "      <td>NaN</td>\n",
       "    </tr>\n",
       "    <tr>\n",
       "      <th>2010-07-22</th>\n",
       "      <td>0.1</td>\n",
       "      <td>0.1</td>\n",
       "      <td>0.1</td>\n",
       "      <td>0.1</td>\n",
       "      <td>0.1</td>\n",
       "      <td>0.1</td>\n",
       "      <td>0.1</td>\n",
       "      <td>0.1</td>\n",
       "      <td>0.1</td>\n",
       "      <td>0.1</td>\n",
       "      <td>0.1</td>\n",
       "      <td>NaN</td>\n",
       "      <td>NaN</td>\n",
       "      <td>NaN</td>\n",
       "      <td>NaN</td>\n",
       "      <td>NaN</td>\n",
       "      <td>NaN</td>\n",
       "    </tr>\n",
       "    <tr>\n",
       "      <th>2010-07-23</th>\n",
       "      <td>0.1</td>\n",
       "      <td>0.1</td>\n",
       "      <td>0.1</td>\n",
       "      <td>0.1</td>\n",
       "      <td>0.1</td>\n",
       "      <td>0.1</td>\n",
       "      <td>0.1</td>\n",
       "      <td>0.1</td>\n",
       "      <td>0.1</td>\n",
       "      <td>0.1</td>\n",
       "      <td>0.1</td>\n",
       "      <td>0.1</td>\n",
       "      <td>0.1</td>\n",
       "      <td>NaN</td>\n",
       "      <td>NaN</td>\n",
       "      <td>NaN</td>\n",
       "      <td>NaN</td>\n",
       "    </tr>\n",
       "    <tr>\n",
       "      <th>2010-07-24</th>\n",
       "      <td>0.1</td>\n",
       "      <td>0.1</td>\n",
       "      <td>0.1</td>\n",
       "      <td>0.1</td>\n",
       "      <td>0.1</td>\n",
       "      <td>0.1</td>\n",
       "      <td>0.1</td>\n",
       "      <td>0.1</td>\n",
       "      <td>0.1</td>\n",
       "      <td>0.1</td>\n",
       "      <td>0.1</td>\n",
       "      <td>0.1</td>\n",
       "      <td>0.1</td>\n",
       "      <td>0.1</td>\n",
       "      <td>0.1</td>\n",
       "      <td>NaN</td>\n",
       "      <td>NaN</td>\n",
       "    </tr>\n",
       "    <tr>\n",
       "      <th>2010-07-25</th>\n",
       "      <td>0.1</td>\n",
       "      <td>0.1</td>\n",
       "      <td>0.1</td>\n",
       "      <td>0.1</td>\n",
       "      <td>0.1</td>\n",
       "      <td>0.1</td>\n",
       "      <td>0.1</td>\n",
       "      <td>0.1</td>\n",
       "      <td>0.1</td>\n",
       "      <td>0.1</td>\n",
       "      <td>0.1</td>\n",
       "      <td>0.1</td>\n",
       "      <td>0.1</td>\n",
       "      <td>0.1</td>\n",
       "      <td>0.1</td>\n",
       "      <td>0.1</td>\n",
       "      <td>0.1</td>\n",
       "    </tr>\n",
       "    <tr>\n",
       "      <th>2010-07-26</th>\n",
       "      <td>0.1</td>\n",
       "      <td>0.1</td>\n",
       "      <td>0.1</td>\n",
       "      <td>0.1</td>\n",
       "      <td>0.1</td>\n",
       "      <td>0.1</td>\n",
       "      <td>0.1</td>\n",
       "      <td>0.1</td>\n",
       "      <td>0.1</td>\n",
       "      <td>0.1</td>\n",
       "      <td>0.1</td>\n",
       "      <td>0.1</td>\n",
       "      <td>0.1</td>\n",
       "      <td>0.1</td>\n",
       "      <td>0.1</td>\n",
       "      <td>0.1</td>\n",
       "      <td>0.1</td>\n",
       "    </tr>\n",
       "    <tr>\n",
       "      <th>2010-07-27</th>\n",
       "      <td>0.1</td>\n",
       "      <td>0.1</td>\n",
       "      <td>0.1</td>\n",
       "      <td>0.1</td>\n",
       "      <td>0.1</td>\n",
       "      <td>0.1</td>\n",
       "      <td>0.1</td>\n",
       "      <td>0.1</td>\n",
       "      <td>0.1</td>\n",
       "      <td>0.1</td>\n",
       "      <td>0.1</td>\n",
       "      <td>0.1</td>\n",
       "      <td>0.1</td>\n",
       "      <td>0.1</td>\n",
       "      <td>0.1</td>\n",
       "      <td>0.1</td>\n",
       "      <td>0.1</td>\n",
       "    </tr>\n",
       "  </tbody>\n",
       "</table>\n",
       "</div>"
      ],
      "text/plain": [
       "            Price  High  Low  Price+1  High+1  Price+2  High+2  Price+3  \\\n",
       "Date                                                                      \n",
       "2010-07-18    0.1   0.1  0.1      NaN     NaN      NaN     NaN      NaN   \n",
       "2010-07-19    0.1   0.1  0.1      0.1     0.1      NaN     NaN      NaN   \n",
       "2010-07-20    0.1   0.1  0.1      0.1     0.1      0.1     0.1      NaN   \n",
       "2010-07-21    0.1   0.1  0.1      0.1     0.1      0.1     0.1      0.1   \n",
       "2010-07-22    0.1   0.1  0.1      0.1     0.1      0.1     0.1      0.1   \n",
       "2010-07-23    0.1   0.1  0.1      0.1     0.1      0.1     0.1      0.1   \n",
       "2010-07-24    0.1   0.1  0.1      0.1     0.1      0.1     0.1      0.1   \n",
       "2010-07-25    0.1   0.1  0.1      0.1     0.1      0.1     0.1      0.1   \n",
       "2010-07-26    0.1   0.1  0.1      0.1     0.1      0.1     0.1      0.1   \n",
       "2010-07-27    0.1   0.1  0.1      0.1     0.1      0.1     0.1      0.1   \n",
       "\n",
       "            High+3  Price+4  High+4  Price+5  High+5  Price+6  High+6  \\\n",
       "Date                                                                    \n",
       "2010-07-18     NaN      NaN     NaN      NaN     NaN      NaN     NaN   \n",
       "2010-07-19     NaN      NaN     NaN      NaN     NaN      NaN     NaN   \n",
       "2010-07-20     NaN      NaN     NaN      NaN     NaN      NaN     NaN   \n",
       "2010-07-21     0.1      NaN     NaN      NaN     NaN      NaN     NaN   \n",
       "2010-07-22     0.1      0.1     0.1      NaN     NaN      NaN     NaN   \n",
       "2010-07-23     0.1      0.1     0.1      0.1     0.1      NaN     NaN   \n",
       "2010-07-24     0.1      0.1     0.1      0.1     0.1      0.1     0.1   \n",
       "2010-07-25     0.1      0.1     0.1      0.1     0.1      0.1     0.1   \n",
       "2010-07-26     0.1      0.1     0.1      0.1     0.1      0.1     0.1   \n",
       "2010-07-27     0.1      0.1     0.1      0.1     0.1      0.1     0.1   \n",
       "\n",
       "            Price+7  High+7  \n",
       "Date                         \n",
       "2010-07-18      NaN     NaN  \n",
       "2010-07-19      NaN     NaN  \n",
       "2010-07-20      NaN     NaN  \n",
       "2010-07-21      NaN     NaN  \n",
       "2010-07-22      NaN     NaN  \n",
       "2010-07-23      NaN     NaN  \n",
       "2010-07-24      NaN     NaN  \n",
       "2010-07-25      0.1     0.1  \n",
       "2010-07-26      0.1     0.1  \n",
       "2010-07-27      0.1     0.1  "
      ]
     },
     "execution_count": 200,
     "metadata": {},
     "output_type": "execute_result"
    }
   ],
   "source": [
    "# making a windowed dataset with pandas.\n",
    "bitcoin_prices_windowed = timestamps_price_high_low_df.copy()\n",
    "\n",
    "# Add windowed columns\n",
    "for i in range(WINDOW_SISE):\n",
    "    bitcoin_prices_windowed[[f'Price+{i+1}', f'High+{i+1}']] = bitcoin_prices_windowed[['Price', 'High']].shift(periods=i+1)\n",
    "    \n",
    "bitcoin_prices_windowed.head(10)"
   ]
  },
  {
   "cell_type": "code",
   "execution_count": 201,
   "metadata": {},
   "outputs": [],
   "source": [
    "x = bitcoin_prices_windowed.dropna().drop('Price', axis=1).astype(np.float32)\n",
    "y = bitcoin_prices_windowed.dropna()['Price'].astype(np.float32)"
   ]
  },
  {
   "cell_type": "code",
   "execution_count": 202,
   "metadata": {},
   "outputs": [
    {
     "data": {
      "text/plain": [
       "((4840, 16), (4840,))"
      ]
     },
     "execution_count": 202,
     "metadata": {},
     "output_type": "execute_result"
    }
   ],
   "source": [
    "x.shape, y.shape"
   ]
  },
  {
   "cell_type": "code",
   "execution_count": 203,
   "metadata": {},
   "outputs": [
    {
     "data": {
      "text/plain": [
       "(3872, 968, 3872, 968)"
      ]
     },
     "execution_count": 203,
     "metadata": {},
     "output_type": "execute_result"
    }
   ],
   "source": [
    "# Make train and test sets using indexing\n",
    "train_windows, test_windows, train_labels, test_labels = make_train_test_splits(x, y)\n",
    "len(train_windows), len(test_windows), len(train_labels), len(test_labels)"
   ]
  },
  {
   "cell_type": "code",
   "execution_count": 204,
   "metadata": {},
   "outputs": [
    {
     "name": "stderr",
     "output_type": "stream",
     "text": [
      "WARNING:absl:Found untraced functions such as _update_step_xla while saving (showing 1 of 1). These functions will not be directly callable after loading.\n"
     ]
    },
    {
     "name": "stdout",
     "output_type": "stream",
     "text": [
      "INFO:tensorflow:Assets written to: model_experiments\\model_3\\assets\n"
     ]
    },
    {
     "name": "stderr",
     "output_type": "stream",
     "text": [
      "INFO:tensorflow:Assets written to: model_experiments\\model_3\\assets\n",
      "WARNING:absl:Found untraced functions such as _update_step_xla while saving (showing 1 of 1). These functions will not be directly callable after loading.\n"
     ]
    },
    {
     "name": "stdout",
     "output_type": "stream",
     "text": [
      "INFO:tensorflow:Assets written to: model_experiments\\model_3\\assets\n"
     ]
    },
    {
     "name": "stderr",
     "output_type": "stream",
     "text": [
      "INFO:tensorflow:Assets written to: model_experiments\\model_3\\assets\n",
      "WARNING:absl:Found untraced functions such as _update_step_xla while saving (showing 1 of 1). These functions will not be directly callable after loading.\n"
     ]
    },
    {
     "name": "stdout",
     "output_type": "stream",
     "text": [
      "INFO:tensorflow:Assets written to: model_experiments\\model_3\\assets\n"
     ]
    },
    {
     "name": "stderr",
     "output_type": "stream",
     "text": [
      "INFO:tensorflow:Assets written to: model_experiments\\model_3\\assets\n",
      "WARNING:absl:Found untraced functions such as _update_step_xla while saving (showing 1 of 1). These functions will not be directly callable after loading.\n"
     ]
    },
    {
     "name": "stdout",
     "output_type": "stream",
     "text": [
      "INFO:tensorflow:Assets written to: model_experiments\\model_3\\assets\n"
     ]
    },
    {
     "name": "stderr",
     "output_type": "stream",
     "text": [
      "INFO:tensorflow:Assets written to: model_experiments\\model_3\\assets\n",
      "WARNING:absl:Found untraced functions such as _update_step_xla while saving (showing 1 of 1). These functions will not be directly callable after loading.\n"
     ]
    },
    {
     "name": "stdout",
     "output_type": "stream",
     "text": [
      "INFO:tensorflow:Assets written to: model_experiments\\model_3\\assets\n"
     ]
    },
    {
     "name": "stderr",
     "output_type": "stream",
     "text": [
      "INFO:tensorflow:Assets written to: model_experiments\\model_3\\assets\n",
      "WARNING:absl:Found untraced functions such as _update_step_xla while saving (showing 1 of 1). These functions will not be directly callable after loading.\n"
     ]
    },
    {
     "name": "stdout",
     "output_type": "stream",
     "text": [
      "INFO:tensorflow:Assets written to: model_experiments\\model_3\\assets\n"
     ]
    },
    {
     "name": "stderr",
     "output_type": "stream",
     "text": [
      "INFO:tensorflow:Assets written to: model_experiments\\model_3\\assets\n",
      "WARNING:absl:Found untraced functions such as _update_step_xla while saving (showing 1 of 1). These functions will not be directly callable after loading.\n"
     ]
    },
    {
     "name": "stdout",
     "output_type": "stream",
     "text": [
      "INFO:tensorflow:Assets written to: model_experiments\\model_3\\assets\n"
     ]
    },
    {
     "name": "stderr",
     "output_type": "stream",
     "text": [
      "INFO:tensorflow:Assets written to: model_experiments\\model_3\\assets\n",
      "WARNING:absl:Found untraced functions such as _update_step_xla while saving (showing 1 of 1). These functions will not be directly callable after loading.\n"
     ]
    },
    {
     "name": "stdout",
     "output_type": "stream",
     "text": [
      "INFO:tensorflow:Assets written to: model_experiments\\model_3\\assets\n"
     ]
    },
    {
     "name": "stderr",
     "output_type": "stream",
     "text": [
      "INFO:tensorflow:Assets written to: model_experiments\\model_3\\assets\n",
      "WARNING:absl:Found untraced functions such as _update_step_xla while saving (showing 1 of 1). These functions will not be directly callable after loading.\n"
     ]
    },
    {
     "name": "stdout",
     "output_type": "stream",
     "text": [
      "INFO:tensorflow:Assets written to: model_experiments\\model_3\\assets\n"
     ]
    },
    {
     "name": "stderr",
     "output_type": "stream",
     "text": [
      "INFO:tensorflow:Assets written to: model_experiments\\model_3\\assets\n",
      "WARNING:absl:Found untraced functions such as _update_step_xla while saving (showing 1 of 1). These functions will not be directly callable after loading.\n"
     ]
    },
    {
     "name": "stdout",
     "output_type": "stream",
     "text": [
      "INFO:tensorflow:Assets written to: model_experiments\\model_3\\assets\n"
     ]
    },
    {
     "name": "stderr",
     "output_type": "stream",
     "text": [
      "INFO:tensorflow:Assets written to: model_experiments\\model_3\\assets\n",
      "WARNING:absl:Found untraced functions such as _update_step_xla while saving (showing 1 of 1). These functions will not be directly callable after loading.\n"
     ]
    },
    {
     "name": "stdout",
     "output_type": "stream",
     "text": [
      "INFO:tensorflow:Assets written to: model_experiments\\model_3\\assets\n"
     ]
    },
    {
     "name": "stderr",
     "output_type": "stream",
     "text": [
      "INFO:tensorflow:Assets written to: model_experiments\\model_3\\assets\n",
      "WARNING:absl:Found untraced functions such as _update_step_xla while saving (showing 1 of 1). These functions will not be directly callable after loading.\n"
     ]
    },
    {
     "name": "stdout",
     "output_type": "stream",
     "text": [
      "INFO:tensorflow:Assets written to: model_experiments\\model_3\\assets\n"
     ]
    },
    {
     "name": "stderr",
     "output_type": "stream",
     "text": [
      "INFO:tensorflow:Assets written to: model_experiments\\model_3\\assets\n",
      "WARNING:absl:Found untraced functions such as _update_step_xla while saving (showing 1 of 1). These functions will not be directly callable after loading.\n"
     ]
    },
    {
     "name": "stdout",
     "output_type": "stream",
     "text": [
      "INFO:tensorflow:Assets written to: model_experiments\\model_3\\assets\n"
     ]
    },
    {
     "name": "stderr",
     "output_type": "stream",
     "text": [
      "INFO:tensorflow:Assets written to: model_experiments\\model_3\\assets\n",
      "WARNING:absl:Found untraced functions such as _update_step_xla while saving (showing 1 of 1). These functions will not be directly callable after loading.\n"
     ]
    },
    {
     "name": "stdout",
     "output_type": "stream",
     "text": [
      "INFO:tensorflow:Assets written to: model_experiments\\model_3\\assets\n"
     ]
    },
    {
     "name": "stderr",
     "output_type": "stream",
     "text": [
      "INFO:tensorflow:Assets written to: model_experiments\\model_3\\assets\n",
      "WARNING:absl:Found untraced functions such as _update_step_xla while saving (showing 1 of 1). These functions will not be directly callable after loading.\n"
     ]
    },
    {
     "name": "stdout",
     "output_type": "stream",
     "text": [
      "INFO:tensorflow:Assets written to: model_experiments\\model_3\\assets\n"
     ]
    },
    {
     "name": "stderr",
     "output_type": "stream",
     "text": [
      "INFO:tensorflow:Assets written to: model_experiments\\model_3\\assets\n",
      "WARNING:absl:Found untraced functions such as _update_step_xla while saving (showing 1 of 1). These functions will not be directly callable after loading.\n"
     ]
    },
    {
     "name": "stdout",
     "output_type": "stream",
     "text": [
      "INFO:tensorflow:Assets written to: model_experiments\\model_3\\assets\n"
     ]
    },
    {
     "name": "stderr",
     "output_type": "stream",
     "text": [
      "INFO:tensorflow:Assets written to: model_experiments\\model_3\\assets\n",
      "WARNING:absl:Found untraced functions such as _update_step_xla while saving (showing 1 of 1). These functions will not be directly callable after loading.\n"
     ]
    },
    {
     "name": "stdout",
     "output_type": "stream",
     "text": [
      "INFO:tensorflow:Assets written to: model_experiments\\model_3\\assets\n"
     ]
    },
    {
     "name": "stderr",
     "output_type": "stream",
     "text": [
      "INFO:tensorflow:Assets written to: model_experiments\\model_3\\assets\n",
      "WARNING:absl:Found untraced functions such as _update_step_xla while saving (showing 1 of 1). These functions will not be directly callable after loading.\n"
     ]
    },
    {
     "name": "stdout",
     "output_type": "stream",
     "text": [
      "INFO:tensorflow:Assets written to: model_experiments\\model_3\\assets\n"
     ]
    },
    {
     "name": "stderr",
     "output_type": "stream",
     "text": [
      "INFO:tensorflow:Assets written to: model_experiments\\model_3\\assets\n",
      "WARNING:absl:Found untraced functions such as _update_step_xla while saving (showing 1 of 1). These functions will not be directly callable after loading.\n"
     ]
    },
    {
     "name": "stdout",
     "output_type": "stream",
     "text": [
      "INFO:tensorflow:Assets written to: model_experiments\\model_3\\assets\n"
     ]
    },
    {
     "name": "stderr",
     "output_type": "stream",
     "text": [
      "INFO:tensorflow:Assets written to: model_experiments\\model_3\\assets\n",
      "WARNING:absl:Found untraced functions such as _update_step_xla while saving (showing 1 of 1). These functions will not be directly callable after loading.\n"
     ]
    },
    {
     "name": "stdout",
     "output_type": "stream",
     "text": [
      "INFO:tensorflow:Assets written to: model_experiments\\model_3\\assets\n"
     ]
    },
    {
     "name": "stderr",
     "output_type": "stream",
     "text": [
      "INFO:tensorflow:Assets written to: model_experiments\\model_3\\assets\n",
      "WARNING:absl:Found untraced functions such as _update_step_xla while saving (showing 1 of 1). These functions will not be directly callable after loading.\n"
     ]
    },
    {
     "name": "stdout",
     "output_type": "stream",
     "text": [
      "INFO:tensorflow:Assets written to: model_experiments\\model_3\\assets\n"
     ]
    },
    {
     "name": "stderr",
     "output_type": "stream",
     "text": [
      "INFO:tensorflow:Assets written to: model_experiments\\model_3\\assets\n",
      "WARNING:absl:Found untraced functions such as _update_step_xla while saving (showing 1 of 1). These functions will not be directly callable after loading.\n"
     ]
    },
    {
     "name": "stdout",
     "output_type": "stream",
     "text": [
      "INFO:tensorflow:Assets written to: model_experiments\\model_3\\assets\n"
     ]
    },
    {
     "name": "stderr",
     "output_type": "stream",
     "text": [
      "INFO:tensorflow:Assets written to: model_experiments\\model_3\\assets\n",
      "WARNING:absl:Found untraced functions such as _update_step_xla while saving (showing 1 of 1). These functions will not be directly callable after loading.\n"
     ]
    },
    {
     "name": "stdout",
     "output_type": "stream",
     "text": [
      "INFO:tensorflow:Assets written to: model_experiments\\model_3\\assets\n"
     ]
    },
    {
     "name": "stderr",
     "output_type": "stream",
     "text": [
      "INFO:tensorflow:Assets written to: model_experiments\\model_3\\assets\n",
      "WARNING:absl:Found untraced functions such as _update_step_xla while saving (showing 1 of 1). These functions will not be directly callable after loading.\n"
     ]
    },
    {
     "name": "stdout",
     "output_type": "stream",
     "text": [
      "INFO:tensorflow:Assets written to: model_experiments\\model_3\\assets\n"
     ]
    },
    {
     "name": "stderr",
     "output_type": "stream",
     "text": [
      "INFO:tensorflow:Assets written to: model_experiments\\model_3\\assets\n"
     ]
    }
   ],
   "source": [
    "# set random seed for as reproductible results as possible\n",
    "tf.random.set_seed(42)\n",
    "\n",
    "model_3 = tf.keras.Sequential([\n",
    "    tf.keras.layers.Dense(128, activation='relu'),\n",
    "    tf.keras.layers.Dense(HORIZON)\n",
    "], name='model_3')\n",
    "\n",
    "model_3.compile(\n",
    "    loss='mae',\n",
    "    optimizer=tf.keras.optimizers.Adam(),\n",
    "    metrics=['mae', 'mse']\n",
    ")\n",
    "\n",
    "history_3 = model_3.fit(\n",
    "    x=train_windows,\n",
    "    y=train_labels,\n",
    "    epochs=100,\n",
    "    verbose=0,\n",
    "    batch_size=128,\n",
    "    validation_data=(test_windows, test_labels),\n",
    "    callbacks=[create_model_checkpoint(model_name=model_3.name)]\n",
    ")"
   ]
  },
  {
   "cell_type": "code",
   "execution_count": 205,
   "metadata": {},
   "outputs": [
    {
     "name": "stdout",
     "output_type": "stream",
     "text": [
      "31/31 [==============================] - 0s 5ms/step - loss: 416.7764 - mae: 416.7764 - mse: 364024.9062\n"
     ]
    },
    {
     "data": {
      "text/plain": [
       "[416.7763671875, 416.7763671875, 364024.90625]"
      ]
     },
     "execution_count": 205,
     "metadata": {},
     "output_type": "execute_result"
    }
   ],
   "source": [
    "model_3_loaded = tf.keras.models.load_model('model_experiments/model_3')\n",
    "model_3_loaded.evaluate(test_windows, test_labels)"
   ]
  },
  {
   "cell_type": "code",
   "execution_count": 206,
   "metadata": {},
   "outputs": [
    {
     "name": "stdout",
     "output_type": "stream",
     "text": [
      "31/31 [==============================] - 0s 1ms/step\n"
     ]
    }
   ],
   "source": [
    "# Make prediction\n",
    "model_3_preds = make_preds(model_3_loaded, test_windows)"
   ]
  },
  {
   "cell_type": "code",
   "execution_count": 207,
   "metadata": {},
   "outputs": [
    {
     "data": {
      "text/plain": [
       "{'mae': 416.77634,\n",
       " 'mse': 364025.0,\n",
       " 'rmse': 603.34485,\n",
       " 'mape': 1.1653488,\n",
       " 'mase': 42.008}"
      ]
     },
     "execution_count": 207,
     "metadata": {},
     "output_type": "execute_result"
    }
   ],
   "source": [
    "model_3_res = evaluate_predictions(test_labels, model_3_preds)\n",
    "model_3_res"
   ]
  },
  {
   "cell_type": "markdown",
   "metadata": {},
   "source": [
    "#### N-BEATS algorithm\n",
    "https://arxiv.org/pdf/1905.10437.pdf\n",
    "\n",
    "N-BEATS: NEURAL BASIS EXPANSION ANALYSIS FOR\n",
    "INTERPRETABLE TIME SERIES FORECASTING"
   ]
  },
  {
   "cell_type": "code",
   "execution_count": 208,
   "metadata": {},
   "outputs": [],
   "source": [
    "# Because the N-BEATS block layer does'nt exist in tensorflow, we've got to create it \n",
    "#To create custom layers and models in Tensorflow we can use subclassing\n",
    "\n",
    "# create the NBeatBlock custom layer\n",
    "class NBeatsBlock(tf.keras.layers.Layer):\n",
    "    def __init__(self,\n",
    "                  input_size: int,\n",
    "                  theta_size: int,\n",
    "                  horizon: int,\n",
    "                  n_neurons: int,\n",
    "                  n_layers: int,\n",
    "                  **kwargs):\n",
    "        super().__init__(**kwargs)\n",
    "        self.input_size = input_size\n",
    "        self.theta_size = theta_size\n",
    "        self.horizon = horizon\n",
    "        self.n_neurons = n_neurons\n",
    "        self.n_layers = n_layers\n",
    "        \n",
    "        # Block contains stack of 4 fully connected layers each has ReLU activation\n",
    "        self.hidden = [tf.keras.layers.Dense(n_neurons, activation='relu') for _ in range(n_layers)]\n",
    "        # output of block is a theta layer with linear activation\n",
    "        self.theta_layer = tf.keras.layers.Dense(theta_size, activation='linear')\n",
    "        \n",
    "    def call(self, inputs):\n",
    "        x = inputs\n",
    "        for layer in self.hidden:\n",
    "            x = layer(x)\n",
    "        self.theta = self.theta_layer(x)\n",
    "        # output the backcast and the forcast from theta\n",
    "        backcast, forecast = self.theta[:, :self.input_size], self.theta[:, -self.horizon:]\n",
    "        return backcast, forecast\n",
    "        \n",
    "        "
   ]
  },
  {
   "cell_type": "code",
   "execution_count": 209,
   "metadata": {},
   "outputs": [
    {
     "data": {
      "text/html": [
       "<div>\n",
       "<style scoped>\n",
       "    .dataframe tbody tr th:only-of-type {\n",
       "        vertical-align: middle;\n",
       "    }\n",
       "\n",
       "    .dataframe tbody tr th {\n",
       "        vertical-align: top;\n",
       "    }\n",
       "\n",
       "    .dataframe thead th {\n",
       "        text-align: right;\n",
       "    }\n",
       "</style>\n",
       "<table border=\"1\" class=\"dataframe\">\n",
       "  <thead>\n",
       "    <tr style=\"text-align: right;\">\n",
       "      <th></th>\n",
       "      <th>Price</th>\n",
       "    </tr>\n",
       "    <tr>\n",
       "      <th>Date</th>\n",
       "      <th></th>\n",
       "    </tr>\n",
       "  </thead>\n",
       "  <tbody>\n",
       "    <tr>\n",
       "      <th>2010-07-18</th>\n",
       "      <td>0.1</td>\n",
       "    </tr>\n",
       "    <tr>\n",
       "      <th>2010-07-19</th>\n",
       "      <td>0.1</td>\n",
       "    </tr>\n",
       "    <tr>\n",
       "      <th>2010-07-20</th>\n",
       "      <td>0.1</td>\n",
       "    </tr>\n",
       "    <tr>\n",
       "      <th>2010-07-21</th>\n",
       "      <td>0.1</td>\n",
       "    </tr>\n",
       "    <tr>\n",
       "      <th>2010-07-22</th>\n",
       "      <td>0.1</td>\n",
       "    </tr>\n",
       "  </tbody>\n",
       "</table>\n",
       "</div>"
      ],
      "text/plain": [
       "            Price\n",
       "Date             \n",
       "2010-07-18    0.1\n",
       "2010-07-19    0.1\n",
       "2010-07-20    0.1\n",
       "2010-07-21    0.1\n",
       "2010-07-22    0.1"
      ]
     },
     "execution_count": 209,
     "metadata": {},
     "output_type": "execute_result"
    }
   ],
   "source": [
    "# prepare data for the N-BEATS algorithm using 'tf.data' to make the input data load as fast as possible\n",
    "\n",
    "timestamps_price_df.head()"
   ]
  },
  {
   "cell_type": "code",
   "execution_count": 210,
   "metadata": {},
   "outputs": [
    {
     "data": {
      "text/html": [
       "<div>\n",
       "<style scoped>\n",
       "    .dataframe tbody tr th:only-of-type {\n",
       "        vertical-align: middle;\n",
       "    }\n",
       "\n",
       "    .dataframe tbody tr th {\n",
       "        vertical-align: top;\n",
       "    }\n",
       "\n",
       "    .dataframe thead th {\n",
       "        text-align: right;\n",
       "    }\n",
       "</style>\n",
       "<table border=\"1\" class=\"dataframe\">\n",
       "  <thead>\n",
       "    <tr style=\"text-align: right;\">\n",
       "      <th></th>\n",
       "      <th>Price</th>\n",
       "      <th>Price+1</th>\n",
       "      <th>Price+2</th>\n",
       "      <th>Price+3</th>\n",
       "      <th>Price+4</th>\n",
       "      <th>Price+5</th>\n",
       "      <th>Price+6</th>\n",
       "      <th>Price+7</th>\n",
       "    </tr>\n",
       "    <tr>\n",
       "      <th>Date</th>\n",
       "      <th></th>\n",
       "      <th></th>\n",
       "      <th></th>\n",
       "      <th></th>\n",
       "      <th></th>\n",
       "      <th></th>\n",
       "      <th></th>\n",
       "      <th></th>\n",
       "    </tr>\n",
       "  </thead>\n",
       "  <tbody>\n",
       "    <tr>\n",
       "      <th>2010-07-18</th>\n",
       "      <td>0.1</td>\n",
       "      <td>NaN</td>\n",
       "      <td>NaN</td>\n",
       "      <td>NaN</td>\n",
       "      <td>NaN</td>\n",
       "      <td>NaN</td>\n",
       "      <td>NaN</td>\n",
       "      <td>NaN</td>\n",
       "    </tr>\n",
       "    <tr>\n",
       "      <th>2010-07-19</th>\n",
       "      <td>0.1</td>\n",
       "      <td>0.1</td>\n",
       "      <td>NaN</td>\n",
       "      <td>NaN</td>\n",
       "      <td>NaN</td>\n",
       "      <td>NaN</td>\n",
       "      <td>NaN</td>\n",
       "      <td>NaN</td>\n",
       "    </tr>\n",
       "    <tr>\n",
       "      <th>2010-07-20</th>\n",
       "      <td>0.1</td>\n",
       "      <td>0.1</td>\n",
       "      <td>0.1</td>\n",
       "      <td>NaN</td>\n",
       "      <td>NaN</td>\n",
       "      <td>NaN</td>\n",
       "      <td>NaN</td>\n",
       "      <td>NaN</td>\n",
       "    </tr>\n",
       "    <tr>\n",
       "      <th>2010-07-21</th>\n",
       "      <td>0.1</td>\n",
       "      <td>0.1</td>\n",
       "      <td>0.1</td>\n",
       "      <td>0.1</td>\n",
       "      <td>NaN</td>\n",
       "      <td>NaN</td>\n",
       "      <td>NaN</td>\n",
       "      <td>NaN</td>\n",
       "    </tr>\n",
       "    <tr>\n",
       "      <th>2010-07-22</th>\n",
       "      <td>0.1</td>\n",
       "      <td>0.1</td>\n",
       "      <td>0.1</td>\n",
       "      <td>0.1</td>\n",
       "      <td>0.1</td>\n",
       "      <td>NaN</td>\n",
       "      <td>NaN</td>\n",
       "      <td>NaN</td>\n",
       "    </tr>\n",
       "  </tbody>\n",
       "</table>\n",
       "</div>"
      ],
      "text/plain": [
       "            Price  Price+1  Price+2  Price+3  Price+4  Price+5  Price+6  \\\n",
       "Date                                                                      \n",
       "2010-07-18    0.1      NaN      NaN      NaN      NaN      NaN      NaN   \n",
       "2010-07-19    0.1      0.1      NaN      NaN      NaN      NaN      NaN   \n",
       "2010-07-20    0.1      0.1      0.1      NaN      NaN      NaN      NaN   \n",
       "2010-07-21    0.1      0.1      0.1      0.1      NaN      NaN      NaN   \n",
       "2010-07-22    0.1      0.1      0.1      0.1      0.1      NaN      NaN   \n",
       "\n",
       "            Price+7  \n",
       "Date                 \n",
       "2010-07-18      NaN  \n",
       "2010-07-19      NaN  \n",
       "2010-07-20      NaN  \n",
       "2010-07-21      NaN  \n",
       "2010-07-22      NaN  "
      ]
     },
     "execution_count": 210,
     "metadata": {},
     "output_type": "execute_result"
    }
   ],
   "source": [
    "# Add windowed column\n",
    "bitcoin_prices_nbeats = timestamps_price_df.copy()\n",
    "\n",
    "for i in range(WINDOW_SISE):\n",
    "    bitcoin_prices_nbeats[f'Price+{i+1}'] = bitcoin_prices_nbeats['Price'].shift(periods=i+1)\n",
    "    \n",
    "bitcoin_prices_nbeats.head()"
   ]
  },
  {
   "cell_type": "code",
   "execution_count": 211,
   "metadata": {},
   "outputs": [
    {
     "data": {
      "text/plain": [
       "(3872, 968, 3872, 968)"
      ]
     },
     "execution_count": 211,
     "metadata": {},
     "output_type": "execute_result"
    }
   ],
   "source": [
    "# Make features and labels\n",
    "x = bitcoin_prices_nbeats.dropna().drop('Price', axis=1)\n",
    "y = bitcoin_prices_nbeats.dropna()['Price']\n",
    "\n",
    "# Make train and test sets using indexing\n",
    "train_windows, test_windows, train_labels, test_labels = make_train_test_splits(x, y)\n",
    "len(train_windows), len(test_windows), len(train_labels), len(test_labels)"
   ]
  },
  {
   "cell_type": "code",
   "execution_count": 212,
   "metadata": {},
   "outputs": [
    {
     "data": {
      "text/html": [
       "<div>\n",
       "<style scoped>\n",
       "    .dataframe tbody tr th:only-of-type {\n",
       "        vertical-align: middle;\n",
       "    }\n",
       "\n",
       "    .dataframe tbody tr th {\n",
       "        vertical-align: top;\n",
       "    }\n",
       "\n",
       "    .dataframe thead th {\n",
       "        text-align: right;\n",
       "    }\n",
       "</style>\n",
       "<table border=\"1\" class=\"dataframe\">\n",
       "  <thead>\n",
       "    <tr style=\"text-align: right;\">\n",
       "      <th></th>\n",
       "      <th>Price+1</th>\n",
       "      <th>Price+2</th>\n",
       "      <th>Price+3</th>\n",
       "      <th>Price+4</th>\n",
       "      <th>Price+5</th>\n",
       "      <th>Price+6</th>\n",
       "      <th>Price+7</th>\n",
       "    </tr>\n",
       "    <tr>\n",
       "      <th>Date</th>\n",
       "      <th></th>\n",
       "      <th></th>\n",
       "      <th></th>\n",
       "      <th></th>\n",
       "      <th></th>\n",
       "      <th></th>\n",
       "      <th></th>\n",
       "    </tr>\n",
       "  </thead>\n",
       "  <tbody>\n",
       "    <tr>\n",
       "      <th>2010-07-25</th>\n",
       "      <td>0.1</td>\n",
       "      <td>0.1</td>\n",
       "      <td>0.1</td>\n",
       "      <td>0.1</td>\n",
       "      <td>0.1</td>\n",
       "      <td>0.1</td>\n",
       "      <td>0.1</td>\n",
       "    </tr>\n",
       "    <tr>\n",
       "      <th>2010-07-26</th>\n",
       "      <td>0.1</td>\n",
       "      <td>0.1</td>\n",
       "      <td>0.1</td>\n",
       "      <td>0.1</td>\n",
       "      <td>0.1</td>\n",
       "      <td>0.1</td>\n",
       "      <td>0.1</td>\n",
       "    </tr>\n",
       "    <tr>\n",
       "      <th>2010-07-27</th>\n",
       "      <td>0.1</td>\n",
       "      <td>0.1</td>\n",
       "      <td>0.1</td>\n",
       "      <td>0.1</td>\n",
       "      <td>0.1</td>\n",
       "      <td>0.1</td>\n",
       "      <td>0.1</td>\n",
       "    </tr>\n",
       "    <tr>\n",
       "      <th>2010-07-28</th>\n",
       "      <td>0.1</td>\n",
       "      <td>0.1</td>\n",
       "      <td>0.1</td>\n",
       "      <td>0.1</td>\n",
       "      <td>0.1</td>\n",
       "      <td>0.1</td>\n",
       "      <td>0.1</td>\n",
       "    </tr>\n",
       "    <tr>\n",
       "      <th>2010-07-29</th>\n",
       "      <td>0.1</td>\n",
       "      <td>0.1</td>\n",
       "      <td>0.1</td>\n",
       "      <td>0.1</td>\n",
       "      <td>0.1</td>\n",
       "      <td>0.1</td>\n",
       "      <td>0.1</td>\n",
       "    </tr>\n",
       "    <tr>\n",
       "      <th>...</th>\n",
       "      <td>...</td>\n",
       "      <td>...</td>\n",
       "      <td>...</td>\n",
       "      <td>...</td>\n",
       "      <td>...</td>\n",
       "      <td>...</td>\n",
       "      <td>...</td>\n",
       "    </tr>\n",
       "    <tr>\n",
       "      <th>2023-10-20</th>\n",
       "      <td>28723.0</td>\n",
       "      <td>28321.7</td>\n",
       "      <td>28403.6</td>\n",
       "      <td>28509.7</td>\n",
       "      <td>27161.2</td>\n",
       "      <td>26852.8</td>\n",
       "      <td>26863.5</td>\n",
       "    </tr>\n",
       "    <tr>\n",
       "      <th>2023-10-21</th>\n",
       "      <td>29674.5</td>\n",
       "      <td>28723.0</td>\n",
       "      <td>28321.7</td>\n",
       "      <td>28403.6</td>\n",
       "      <td>28509.7</td>\n",
       "      <td>27161.2</td>\n",
       "      <td>26852.8</td>\n",
       "    </tr>\n",
       "    <tr>\n",
       "      <th>2023-10-22</th>\n",
       "      <td>29912.9</td>\n",
       "      <td>29674.5</td>\n",
       "      <td>28723.0</td>\n",
       "      <td>28321.7</td>\n",
       "      <td>28403.6</td>\n",
       "      <td>28509.7</td>\n",
       "      <td>27161.2</td>\n",
       "    </tr>\n",
       "    <tr>\n",
       "      <th>2023-10-23</th>\n",
       "      <td>29984.2</td>\n",
       "      <td>29912.9</td>\n",
       "      <td>29674.5</td>\n",
       "      <td>28723.0</td>\n",
       "      <td>28321.7</td>\n",
       "      <td>28403.6</td>\n",
       "      <td>28509.7</td>\n",
       "    </tr>\n",
       "    <tr>\n",
       "      <th>2023-10-24</th>\n",
       "      <td>33041.8</td>\n",
       "      <td>29984.2</td>\n",
       "      <td>29912.9</td>\n",
       "      <td>29674.5</td>\n",
       "      <td>28723.0</td>\n",
       "      <td>28321.7</td>\n",
       "      <td>28403.6</td>\n",
       "    </tr>\n",
       "  </tbody>\n",
       "</table>\n",
       "<p>4840 rows × 7 columns</p>\n",
       "</div>"
      ],
      "text/plain": [
       "            Price+1  Price+2  Price+3  Price+4  Price+5  Price+6  Price+7\n",
       "Date                                                                     \n",
       "2010-07-25      0.1      0.1      0.1      0.1      0.1      0.1      0.1\n",
       "2010-07-26      0.1      0.1      0.1      0.1      0.1      0.1      0.1\n",
       "2010-07-27      0.1      0.1      0.1      0.1      0.1      0.1      0.1\n",
       "2010-07-28      0.1      0.1      0.1      0.1      0.1      0.1      0.1\n",
       "2010-07-29      0.1      0.1      0.1      0.1      0.1      0.1      0.1\n",
       "...             ...      ...      ...      ...      ...      ...      ...\n",
       "2023-10-20  28723.0  28321.7  28403.6  28509.7  27161.2  26852.8  26863.5\n",
       "2023-10-21  29674.5  28723.0  28321.7  28403.6  28509.7  27161.2  26852.8\n",
       "2023-10-22  29912.9  29674.5  28723.0  28321.7  28403.6  28509.7  27161.2\n",
       "2023-10-23  29984.2  29912.9  29674.5  28723.0  28321.7  28403.6  28509.7\n",
       "2023-10-24  33041.8  29984.2  29912.9  29674.5  28723.0  28321.7  28403.6\n",
       "\n",
       "[4840 rows x 7 columns]"
      ]
     },
     "execution_count": 212,
     "metadata": {},
     "output_type": "execute_result"
    }
   ],
   "source": [
    "x"
   ]
  },
  {
   "cell_type": "code",
   "execution_count": 213,
   "metadata": {},
   "outputs": [],
   "source": [
    "# TIme to make our dataset performant using tf.data API\n",
    "train_features_dataset = tf.data.Dataset.from_tensor_slices(train_windows)\n",
    "train_labels_dataset = tf.data.Dataset.from_tensor_slices(train_labels)\n",
    "\n",
    "test_features_dataset = tf.data.Dataset.from_tensor_slices(test_windows)\n",
    "test_labels_dataset = tf.data.Dataset.from_tensor_slices(test_labels)\n",
    "\n",
    "# combine labels and features by zipping together (features, labels)\n",
    "train_dataset = tf.data.Dataset.zip((train_features_dataset, train_labels_dataset))\n",
    "test_dataset = tf.data.Dataset.zip((test_features_dataset, test_labels_dataset))\n",
    "\n",
    "# Batching and prefech\n",
    "BATCH_SIZE = 1024\n",
    "train_dataset = train_dataset.batch(BATCH_SIZE).prefetch(tf.data.AUTOTUNE)\n",
    "test_dataset = test_dataset.batch(BATCH_SIZE).prefetch(tf.data.AUTOTUNE)"
   ]
  },
  {
   "cell_type": "code",
   "execution_count": 214,
   "metadata": {},
   "outputs": [],
   "source": [
    "# Setting up hyperparameters\n",
    "N_EPOCHS = 5000 # in the paper refers to iterations\n",
    "N_NEURONS = 512 # in the paper refers to width\n",
    "N_LAYERS = 4\n",
    "N_STACKS = 30\n",
    "INPUT_SIZE = WINDOW_SISE * HORIZON\n",
    "THETA_SIZE = INPUT_SIZE + HORIZON"
   ]
  },
  {
   "cell_type": "code",
   "execution_count": 215,
   "metadata": {},
   "outputs": [],
   "source": [
    "# Get ready the residual connection\n",
    "# Before we can craft N-BEATS model, we need 2 layers for the residual connections (substract and add)\n",
    "# The N-BEATS algorithm uses double residual stacking to help train its deeper architechture\n",
    "tensor_1 = tf.range(10) + 10\n",
    "tensor_2 = tf.range(10)\n",
    "# substract\n",
    "substracted = tf.keras.layers.subtract([tensor_1, tensor_2])\n",
    "# add\n",
    "added = tf.keras.layers.add([tensor_1, tensor_2])"
   ]
  },
  {
   "cell_type": "markdown",
   "metadata": {},
   "source": [
    "### Building, compiling and fitting the N-BEATS algo\n",
    "\n",
    "1- Setup an instance of the N-BEATS Block layer using `NBeatsBlock` class\n",
    "\n",
    "2- Create an input layer for the N-BEATS stack (using functional API)\n",
    "\n",
    "3- Make the initial backcast and forecasts for the model with the layer created in 1\n",
    "\n",
    "4 - Use for loop to create stacks of block layers\n",
    "\n",
    "5- Use the `NBeatsBlock` class within the for loop in 4 to create blocks which return backcasts and block-level forecasts\n",
    "\n",
    "6- Create the double residual stacking using snsract and add layers\n",
    "\n",
    "7- Put the model inputs and outputs together using `tf.keras.Model()`\n",
    "\n",
    "8- Compile the model\n",
    "\n",
    "9- Fit model for 5k\n",
    "    callbacks: \n",
    "        - Early stopping: (stop if the model stop improving)\n",
    "        - Reduce LR on plateau: if the model stops improving, try lowering the learning rate to reduce the amounts it updates its weights each time"
   ]
  },
  {
   "cell_type": "code",
   "execution_count": 216,
   "metadata": {},
   "outputs": [],
   "source": [
    "tf.random.set_seed(42)\n",
    "\n",
    "# 1- Setup and instance of NBeatsBlock\n",
    "nbeats_block_layer = NBeatsBlock(input_size=INPUT_SIZE,\n",
    "                                 theta_size=THETA_SIZE,\n",
    "                                 horizon=HORIZON,\n",
    "                                 n_neurons=N_NEURONS,\n",
    "                                 n_layers=N_LAYERS,\n",
    "                                 name='InitialBlock')\n",
    "# 2- Create an input layer for the N-BEATS stack (using functional API)\n",
    "stack_input = tf.keras.layers.Input(shape=(INPUT_SIZE), name='stack_input')\n",
    "\n",
    "# 3- Make the initial backcast and forecasts for the model with the layer created in 1\n",
    "residuals, forecast = nbeats_block_layer(stack_input)\n",
    "\n",
    "# 4 - Use for loop to create stacks of block layers\n",
    "for i, _ in enumerate(range(N_STACKS-1)):\n",
    "    # 5- Use the `NBeatsBlock` class within the for loop in 4 to create blocks which return backcasts and block-level forecasts\n",
    "    backcast, block_forecast = NBeatsBlock(input_size=INPUT_SIZE,\n",
    "                                 theta_size=THETA_SIZE,\n",
    "                                 horizon=HORIZON,\n",
    "                                 n_neurons=N_NEURONS,\n",
    "                                 n_layers=N_LAYERS,\n",
    "                                 name=f'NBeatsBlock_{i}')(residuals) # pass in the residuals\n",
    "    # 6- create the double residual stacking\n",
    "    residuals = tf.keras.layers.subtract([residuals, backcast], name=f'substract_{i}')\n",
    "    forecast = tf.keras.layers.add([forecast, block_forecast], name=f'add_{i}')\n",
    "\n",
    "# 7- Put the model inputs and outputs together using `tf.keras.Model()`\n",
    "nbeats_model = tf.keras.Model(inputs=stack_input, outputs=forecast, name='NBeatsModel')"
   ]
  },
  {
   "cell_type": "code",
   "execution_count": 217,
   "metadata": {},
   "outputs": [
    {
     "name": "stdout",
     "output_type": "stream",
     "text": [
      "\n",
      "Epoch 555: ReduceLROnPlateau reducing learning rate to 0.00010000000474974513.\n",
      "\n",
      "Epoch 1030: ReduceLROnPlateau reducing learning rate to 1.0000000474974514e-05.\n",
      "\n",
      "Epoch 1130: ReduceLROnPlateau reducing learning rate to 1.0000000656873453e-06.\n"
     ]
    }
   ],
   "source": [
    "nbeats_model.compile(\n",
    "    loss='mae',\n",
    "    optimizer=tf.keras.optimizers.Adam(),\n",
    "    metrics=['mae', 'mse']\n",
    ")\n",
    "\n",
    "history_4 = nbeats_model.fit(\n",
    "    train_dataset,\n",
    "    epochs=5000,\n",
    "    verbose=0,\n",
    "    batch_size=128,\n",
    "    validation_data=test_dataset,\n",
    "    callbacks=[#create_model_checkpoint(model_name=nbeats_model.name),\n",
    "               tf.keras.callbacks.EarlyStopping(monitor='val_loss', patience=200, restore_best_weights=True), # stop if the model is not improving on the val loss in 5 epochs and restore best performing weight\n",
    "               tf.keras.callbacks.ReduceLROnPlateau(monitor='val_loss', patience=100, verbose=1)] )"
   ]
  },
  {
   "cell_type": "code",
   "execution_count": 218,
   "metadata": {},
   "outputs": [
    {
     "name": "stdout",
     "output_type": "stream",
     "text": [
      "1/1 [==============================] - 0s 387ms/step - loss: 826.5875 - mae: 826.5875 - mse: 1630284.5000\n"
     ]
    },
    {
     "data": {
      "text/plain": [
       "[826.5874633789062, 826.5874633789062, 1630284.5]"
      ]
     },
     "execution_count": 218,
     "metadata": {},
     "output_type": "execute_result"
    }
   ],
   "source": [
    "nbeats_model.evaluate(test_dataset)"
   ]
  },
  {
   "cell_type": "code",
   "execution_count": 219,
   "metadata": {},
   "outputs": [
    {
     "name": "stdout",
     "output_type": "stream",
     "text": [
      "1/1 [==============================] - 3s 3s/step\n"
     ]
    }
   ],
   "source": [
    "# Make predictions\n",
    "nbeats_model_preds = make_preds(nbeats_model, test_dataset)"
   ]
  },
  {
   "cell_type": "code",
   "execution_count": 220,
   "metadata": {},
   "outputs": [
    {
     "data": {
      "text/plain": [
       "{'mae': 826.58746,\n",
       " 'mse': 1630284.5,\n",
       " 'rmse': 1276.8259,\n",
       " 'mape': 2.2994082,\n",
       " 'mase': 42.008}"
      ]
     },
     "execution_count": 220,
     "metadata": {},
     "output_type": "execute_result"
    }
   ],
   "source": [
    "nbeats_res = evaluate_predictions(test_labels, nbeats_model_preds)\n",
    "nbeats_res"
   ]
  },
  {
   "cell_type": "markdown",
   "metadata": {},
   "source": [
    "### Creating an Ensemble (stacking different models together)\n",
    "\n",
    "Combine different models to make a decision\n",
    "\n",
    "fit on 3 differents metrics with different random initialization"
   ]
  },
  {
   "cell_type": "code",
   "execution_count": 221,
   "metadata": {},
   "outputs": [],
   "source": [
    "# construct and fitting and ensemble of models (using different loss functions)\n",
    "def get_ensemble_models(horizon=HORIZON, \n",
    "                        train_data=train_dataset, \n",
    "                        test_data=test_dataset, \n",
    "                        num_iter=5,\n",
    "                        num_epochs=1000,\n",
    "                        loss_fn=['mae', 'mse', 'mape']):\n",
    "    \"\"\"\n",
    "    Returns a list of num_iter models each trained on MAE, MSE, and MAPE loss.\n",
    "    For example if num_iter=10, a list of 30 trained models will be retruned:\n",
    "    10 * len(['mae', 'mse', 'mape'])\n",
    "    \"\"\"\n",
    "    # make empty lsit for trained ensemble models \n",
    "    ensemble_models = []\n",
    "    \n",
    "    # create num_iter number of models per loss function\n",
    "    for i in range(num_iter):\n",
    "        # Build and fit a new model with a different loss function\n",
    "        for loss_function in loss_fn:\n",
    "            print(f'Optimizing model by reducing: {loss_function} for {num_epochs} epochs, model number: {i}')\n",
    "            \n",
    "            # construct a simple model\n",
    "            model = tf.keras.Sequential([\n",
    "                tf.keras.layers.Dense(128, activation='relu', kernel_initializer='he_normal'),\n",
    "                tf.keras.layers.Dense(HORIZON, activation='linear')\n",
    "            ], name=f'model_{i}')\n",
    "\n",
    "            model.compile(\n",
    "                loss=loss_function,\n",
    "                optimizer=tf.keras.optimizers.Adam(),\n",
    "                metrics=['mae', 'mse']\n",
    "            )\n",
    "\n",
    "            model.fit(\n",
    "                train_data,\n",
    "                epochs=num_epochs,\n",
    "                verbose=0,\n",
    "                batch_size=128,\n",
    "                validation_data=test_data,\n",
    "                callbacks=[\n",
    "                    # create_model_checkpoint(model_name=model.name)\n",
    "                    tf.keras.callbacks.EarlyStopping(monitor='val_loss', patience=200, restore_best_weights=True), # stop if the model is not improving on the val loss in 5 epochs and restore best performing weight\n",
    "                    tf.keras.callbacks.ReduceLROnPlateau(monitor='val_loss', patience=100, verbose=1)\n",
    "                ]\n",
    "            )\n",
    "            ensemble_models.append(model)\n",
    "    return ensemble_models"
   ]
  },
  {
   "cell_type": "code",
   "execution_count": 222,
   "metadata": {},
   "outputs": [
    {
     "name": "stdout",
     "output_type": "stream",
     "text": [
      "Optimizing model by reducing: mae for 1000 epochs, model number: 0\n"
     ]
    },
    {
     "name": "stdout",
     "output_type": "stream",
     "text": [
      "\n",
      "Epoch 705: ReduceLROnPlateau reducing learning rate to 0.00010000000474974513.\n",
      "\n",
      "Epoch 812: ReduceLROnPlateau reducing learning rate to 1.0000000474974514e-05.\n",
      "\n",
      "Epoch 912: ReduceLROnPlateau reducing learning rate to 1.0000000656873453e-06.\n",
      "Optimizing model by reducing: mse for 1000 epochs, model number: 0\n",
      "\n",
      "Epoch 292: ReduceLROnPlateau reducing learning rate to 0.00010000000474974513.\n",
      "\n",
      "Epoch 392: ReduceLROnPlateau reducing learning rate to 1.0000000474974514e-05.\n",
      "Optimizing model by reducing: mape for 1000 epochs, model number: 0\n",
      "\n",
      "Epoch 702: ReduceLROnPlateau reducing learning rate to 0.00010000000474974513.\n",
      "Optimizing model by reducing: mae for 1000 epochs, model number: 1\n",
      "Optimizing model by reducing: mse for 1000 epochs, model number: 1\n",
      "\n",
      "Epoch 919: ReduceLROnPlateau reducing learning rate to 0.00010000000474974513.\n",
      "Optimizing model by reducing: mape for 1000 epochs, model number: 1\n",
      "\n",
      "Epoch 639: ReduceLROnPlateau reducing learning rate to 0.00010000000474974513.\n",
      "Optimizing model by reducing: mae for 1000 epochs, model number: 2\n",
      "\n",
      "Epoch 690: ReduceLROnPlateau reducing learning rate to 0.00010000000474974513.\n",
      "\n",
      "Epoch 797: ReduceLROnPlateau reducing learning rate to 1.0000000474974514e-05.\n",
      "\n",
      "Epoch 897: ReduceLROnPlateau reducing learning rate to 1.0000000656873453e-06.\n",
      "Optimizing model by reducing: mse for 1000 epochs, model number: 2\n",
      "\n",
      "Epoch 236: ReduceLROnPlateau reducing learning rate to 0.00010000000474974513.\n",
      "\n",
      "Epoch 336: ReduceLROnPlateau reducing learning rate to 1.0000000474974514e-05.\n",
      "Optimizing model by reducing: mape for 1000 epochs, model number: 2\n",
      "\n",
      "Epoch 878: ReduceLROnPlateau reducing learning rate to 0.00010000000474974513.\n",
      "Optimizing model by reducing: mae for 1000 epochs, model number: 3\n",
      "\n",
      "Epoch 292: ReduceLROnPlateau reducing learning rate to 0.00010000000474974513.\n",
      "\n",
      "Epoch 398: ReduceLROnPlateau reducing learning rate to 1.0000000474974514e-05.\n",
      "\n",
      "Epoch 498: ReduceLROnPlateau reducing learning rate to 1.0000000656873453e-06.\n",
      "Optimizing model by reducing: mse for 1000 epochs, model number: 3\n",
      "\n",
      "Epoch 304: ReduceLROnPlateau reducing learning rate to 0.00010000000474974513.\n",
      "\n",
      "Epoch 404: ReduceLROnPlateau reducing learning rate to 1.0000000474974514e-05.\n",
      "Optimizing model by reducing: mape for 1000 epochs, model number: 3\n",
      "\n",
      "Epoch 712: ReduceLROnPlateau reducing learning rate to 0.00010000000474974513.\n",
      "\n",
      "Epoch 961: ReduceLROnPlateau reducing learning rate to 1.0000000474974514e-05.\n",
      "Optimizing model by reducing: mae for 1000 epochs, model number: 4\n",
      "\n",
      "Epoch 532: ReduceLROnPlateau reducing learning rate to 0.00010000000474974513.\n",
      "Optimizing model by reducing: mse for 1000 epochs, model number: 4\n",
      "\n",
      "Epoch 717: ReduceLROnPlateau reducing learning rate to 0.00010000000474974513.\n",
      "\n",
      "Epoch 817: ReduceLROnPlateau reducing learning rate to 1.0000000474974514e-05.\n",
      "Optimizing model by reducing: mape for 1000 epochs, model number: 4\n",
      "\n",
      "Epoch 609: ReduceLROnPlateau reducing learning rate to 0.00010000000474974513.\n"
     ]
    }
   ],
   "source": [
    "ensemble_models = get_ensemble_models()"
   ]
  },
  {
   "cell_type": "code",
   "execution_count": 223,
   "metadata": {},
   "outputs": [],
   "source": [
    "# create a function which uses a list of trained models to make and return a lsit of predictions\n",
    "def make_ens_preds(ensemble_models=ensemble_models, test_data=test_dataset):\n",
    "    ensemble_preds = []\n",
    "    for model in ensemble_models:\n",
    "        preds = model.predict(test_data)\n",
    "        ensemble_preds.append(preds)\n",
    "    return tf.constant(tf.squeeze(ensemble_preds))"
   ]
  },
  {
   "cell_type": "code",
   "execution_count": 224,
   "metadata": {},
   "outputs": [
    {
     "name": "stdout",
     "output_type": "stream",
     "text": [
      "1/1 [==============================] - 0s 52ms/step\n",
      "1/1 [==============================] - 0s 66ms/step\n"
     ]
    },
    {
     "name": "stdout",
     "output_type": "stream",
     "text": [
      "1/1 [==============================] - 0s 61ms/step\n",
      "1/1 [==============================] - 0s 53ms/step\n",
      "1/1 [==============================] - 0s 50ms/step\n",
      "1/1 [==============================] - 0s 53ms/step\n",
      "1/1 [==============================] - 0s 100ms/step\n",
      "1/1 [==============================] - 0s 67ms/step\n",
      "1/1 [==============================] - 0s 73ms/step\n",
      "1/1 [==============================] - 0s 130ms/step\n",
      "1/1 [==============================] - 0s 90ms/step\n",
      "1/1 [==============================] - 0s 50ms/step\n",
      "1/1 [==============================] - 0s 63ms/step\n",
      "1/1 [==============================] - 0s 90ms/step\n",
      "1/1 [==============================] - 0s 125ms/step\n"
     ]
    },
    {
     "data": {
      "text/plain": [
       "<tf.Tensor: shape=(15, 968), dtype=float32, numpy=\n",
       "array([[45671.926, 49384.785, 48156.2  , ..., 29999.328, 30107.633,\n",
       "        33246.453],\n",
       "       [44711.81 , 49431.16 , 48315.793, ..., 30300.922, 30047.023,\n",
       "        33301.81 ],\n",
       "       [45331.895, 49573.176, 48612.527, ..., 30108.379, 30120.828,\n",
       "        33109.293],\n",
       "       ...,\n",
       "       [45184.934, 49218.168, 48344.996, ..., 29985.953, 30143.527,\n",
       "        32975.715],\n",
       "       [44603.63 , 48555.57 , 47333.53 , ..., 30402.354, 30301.607,\n",
       "        33392.21 ],\n",
       "       [45039.53 , 49770.2  , 48551.18 , ..., 30116.896, 30142.691,\n",
       "        33199.453]], dtype=float32)>"
      ]
     },
     "execution_count": 224,
     "metadata": {},
     "output_type": "execute_result"
    }
   ],
   "source": [
    "ensemble_preds = make_ens_preds()\n",
    "ensemble_preds"
   ]
  },
  {
   "cell_type": "code",
   "execution_count": 225,
   "metadata": {},
   "outputs": [
    {
     "data": {
      "text/plain": [
       "{'mae': 828.0799,\n",
       " 'mse': 1627459.6,\n",
       " 'rmse': 1275.7192,\n",
       " 'mape': 2.3069751,\n",
       " 'mase': 42.008}"
      ]
     },
     "execution_count": 225,
     "metadata": {},
     "output_type": "execute_result"
    }
   ],
   "source": [
    "ens_mean = tf.reduce_mean(ensemble_preds, axis=0)\n",
    "ens_res = evaluate_predictions(y_true=test_labels, y_pred=ens_mean)\n",
    "ens_res"
   ]
  },
  {
   "cell_type": "markdown",
   "metadata": {},
   "source": [
    "### plotting the 95% prediction interval (uncertainty estimates) of our ensemble\n",
    "\n",
    "One way to get the 95% confidence prediction intervals for a deep learninng model is the `bootstrap method`\n",
    "\n",
    "1- Take the predictions from a number of randomly initialized models\n",
    "\n",
    "2- Measure the standard deviation of the predictions\n",
    "\n",
    "3- Multiply the standard deviation by 1.96 (assuming the distribution is Gaussian/Normal, 95% of observations fall within 1.96 standard deviations of the mean)\n",
    "\n",
    "4- To get the prediction interval upper and lower bounds, add and substract the value obtained in (3) to the mean/median of the predictions made in (1)"
   ]
  },
  {
   "cell_type": "code",
   "execution_count": 226,
   "metadata": {},
   "outputs": [],
   "source": [
    "# find upper and lower bounds of ensemble predictions\n",
    "def get_upper_lower(preds):\n",
    "    # 2- Measure the standard deviation of the predictions\n",
    "    std = tf.math.reduce_std(preds, axis=0)\n",
    "    # 3- Multiply the standard deviation by 1.96\n",
    "    interval = std * 1.96\n",
    "    # 4- Get the prediction interval upper and lower bounds\n",
    "    preds_mean = tf.reduce_mean(preds, axis=0)\n",
    "    lower, upper = preds_mean - interval, preds_mean + interval\n",
    "    return lower, upper"
   ]
  },
  {
   "cell_type": "code",
   "execution_count": 227,
   "metadata": {},
   "outputs": [],
   "source": [
    "lower, upper = get_upper_lower(ensemble_preds)"
   ]
  },
  {
   "cell_type": "code",
   "execution_count": 231,
   "metadata": {},
   "outputs": [
    {
     "data": {
      "text/plain": [
       "<matplotlib.legend.Legend at 0x212dcd85270>"
      ]
     },
     "execution_count": 231,
     "metadata": {},
     "output_type": "execute_result"
    },
    {
     "data": {
      "image/png": "[encoded data removed]",
      "text/plain": [
       "<Figure size 1000x700 with 1 Axes>"
      ]
     },
     "metadata": {},
     "output_type": "display_data"
    }
   ],
   "source": [
    "offset = 950\n",
    "plt.figure(figsize=(10, 7))\n",
    "plt.plot(test_labels.index[offset:], test_labels.values[offset:], 'o', label='test label')\n",
    "plt.plot(test_labels.index[offset:], ens_mean[offset:], '-', label='preds')\n",
    "\n",
    "plt.fill_between(test_labels.index[offset:], (lower)[offset:], (upper)[offset:], label='prediction interval')\n",
    "plt.legend(loc='upper left')"
   ]
  },
  {
   "cell_type": "markdown",
   "metadata": {},
   "source": [
    "Types of uncertainty\n",
    "\n",
    "- Aleatoric uncertainty (data or subway uncertainty): it cannot be reduced with more data. No matter how much data we collect we cannot reduce this uncertainty.\n",
    "\n",
    "- Epistemic uncertainty (model or coconut uncertainty): which can be reduced with more data. Describe the confidence in the prediction"
   ]
  },
  {
   "attachments": {
    "image.png": {
     "image/png": "[encoded data removed]"
    }
   },
   "cell_type": "markdown",
   "metadata": {},
   "source": [
    "### Make prediction into the future\n",
    "\n",
    "Train the model on the full historical data to make predictions into the future.\n",
    "\n",
    "NB: you need to retrain the model every time you want to generate a new prediction\n",
    "\n",
    "![image.png](attachment:image.png)"
   ]
  },
  {
   "cell_type": "code",
   "execution_count": 232,
   "metadata": {},
   "outputs": [],
   "source": [
    "# Make features and labels\n",
    "x = bitcoin_prices_nbeats.dropna().drop('Price', axis=1)\n",
    "y = bitcoin_prices_nbeats.dropna()['Price']"
   ]
  },
  {
   "cell_type": "code",
   "execution_count": 233,
   "metadata": {},
   "outputs": [],
   "source": [
    "# TIme to make our dataset performant using tf.data API\n",
    "features_dataset = tf.data.Dataset.from_tensor_slices(x)\n",
    "labels_dataset = tf.data.Dataset.from_tensor_slices(y)\n",
    "# combine labels and features by zipping together (features, labels)\n",
    "dataset = tf.data.Dataset.zip((features_dataset, labels_dataset))\n",
    "\n",
    "# Batching and prefech\n",
    "BATCH_SIZE = 1024\n",
    "dataset = dataset.batch(BATCH_SIZE).prefetch(tf.data.AUTOTUNE)"
   ]
  },
  {
   "cell_type": "code",
   "execution_count": 236,
   "metadata": {},
   "outputs": [],
   "source": [
    "# set random seed for as reproductible results as possible\n",
    "tf.random.set_seed(42)\n",
    "\n",
    "model_6 = tf.keras.Sequential([\n",
    "    tf.keras.layers.Dense(128, activation='relu'),\n",
    "    tf.keras.layers.Dense(HORIZON)\n",
    "], name='model_6')\n",
    "\n",
    "model_6.compile(\n",
    "    loss='mae',\n",
    "    optimizer=tf.keras.optimizers.Adam(),\n",
    "    metrics=['mae', 'mse']\n",
    ")\n",
    "\n",
    "history_6 = model_6.fit(\n",
    "    dataset,\n",
    "    epochs=100,\n",
    "    verbose=0\n",
    ")"
   ]
  },
  {
   "cell_type": "markdown",
   "metadata": {},
   "source": [
    "#### Make predictions into future\n",
    "\n",
    "To make predictions into the future we want a function which:\n",
    "\n",
    "1- Take as input:\n",
    "    - a list of values (Bitcoin historical data)\n",
    "    - a trained model\n",
    "    - a window into the future to predict (`our INTO_FUTURE var`)\n",
    "    - the window size a model was trained on\n",
    "\n",
    "2- create an empty list for future forecasts. this will be returned at the end when it's full of predictions and extract the last window_size(here 7) values from the inputs values\n",
    "\n",
    "3- Loop `INTO_FUTURE` times making a prediction on `window_size` sequences which update to remove the first value and append the latest prediction"
   ]
  },
  {
   "cell_type": "code",
   "execution_count": 243,
   "metadata": {},
   "outputs": [],
   "source": [
    "INTO_FUTURE = 14\n",
    "def make_future_prediction(values, model, into_future=INTO_FUTURE, window_size=WINDOW_SISE) -> list:\n",
    "    \"\"\"\n",
    "    Make future forecasts into_fture steps after values ends\n",
    "    Return:\n",
    "        future firecasts as a list of float\n",
    "    \"\"\"\n",
    "    # create an empty list for future forecasts\n",
    "    future_forecast = []\n",
    "    last_window = values[-window_size:]\n",
    "    # Make into_future number of predictions, altering the data which gets predicted on each\n",
    "    for _ in range(into_future):\n",
    "        # predict on the last window then append it again, again, again\n",
    "        future_pred = model.predict(tf.expand_dims(last_window, axis=0))\n",
    "        print(f'Predicting on: \\n {last_window} -> Prediction: {tf.squeeze(future_pred).numpy()} \\n')\n",
    "        \n",
    "        # Append predictions\n",
    "        future_forecast.append(tf.squeeze(future_pred).numpy()) \n",
    "        # Upadate last window with new pred and get WINDOW_SIZE most recent\n",
    "        last_window = np.append(last_window, future_pred)[-window_size:]\n",
    "    return future_forecast"
   ]
  },
  {
   "cell_type": "code",
   "execution_count": 245,
   "metadata": {},
   "outputs": [
    {
     "name": "stdout",
     "output_type": "stream",
     "text": [
      "1/1 [==============================] - 0s 24ms/step\n",
      "Predicting on: \n",
      " [28321.7 28723.  29674.5 29912.9 29984.2 33041.8 34562.9] -> Prediction: 28932.146484375 \n",
      "\n",
      "1/1 [==============================] - 0s 31ms/step\n",
      "Predicting on: \n",
      " [28723.         29674.5        29912.9        29984.2\n",
      " 33041.8        34562.9        28932.14648438] -> Prediction: 29653.29296875 \n",
      "\n",
      "1/1 [==============================] - 0s 19ms/step\n",
      "Predicting on: \n",
      " [29674.5        29912.9        29984.2        33041.8\n",
      " 34562.9        28932.14648438 29653.29296875] -> Prediction: 30442.962890625 \n",
      "\n",
      "1/1 [==============================] - 0s 19ms/step\n",
      "Predicting on: \n",
      " [29912.9        29984.2        33041.8        34562.9\n",
      " 28932.14648438 29653.29296875 30442.96289062] -> Prediction: 30597.560546875 \n",
      "\n",
      "1/1 [==============================] - 0s 21ms/step\n",
      "Predicting on: \n",
      " [29984.2        33041.8        34562.9        28932.14648438\n",
      " 29653.29296875 30442.96289062 30597.56054688] -> Prediction: 31566.783203125 \n",
      "\n",
      "1/1 [==============================] - 0s 22ms/step\n",
      "Predicting on: \n",
      " [33041.8        34562.9        28932.14648438 29653.29296875\n",
      " 30442.96289062 30597.56054688 31566.78320312] -> Prediction: 32936.98046875 \n",
      "\n",
      "1/1 [==============================] - 0s 20ms/step\n",
      "Predicting on: \n",
      " [34562.9        28932.14648438 29653.29296875 30442.96289062\n",
      " 30597.56054688 31566.78320312 32936.98046875] -> Prediction: 32914.6953125 \n",
      "\n",
      "1/1 [==============================] - 0s 20ms/step\n",
      "Predicting on: \n",
      " [28932.14648438 29653.29296875 30442.96289062 30597.56054688\n",
      " 31566.78320312 32936.98046875 32914.6953125 ] -> Prediction: 29730.685546875 \n",
      "\n",
      "1/1 [==============================] - 0s 20ms/step\n",
      "Predicting on: \n",
      " [29653.29296875 30442.96289062 30597.56054688 31566.78320312\n",
      " 32936.98046875 32914.6953125  29730.68554688] -> Prediction: 30466.33984375 \n",
      "\n",
      "1/1 [==============================] - 0s 18ms/step\n",
      "Predicting on: \n",
      " [30442.96289062 30597.56054688 31566.78320312 32936.98046875\n",
      " 32914.6953125  29730.68554688 30466.33984375] -> Prediction: 31146.32421875 \n",
      "\n",
      "1/1 [==============================] - 0s 20ms/step\n",
      "Predicting on: \n",
      " [30597.56054688 31566.78320312 32936.98046875 32914.6953125\n",
      " 29730.68554688 30466.33984375 31146.32421875] -> Prediction: 31374.34765625 \n",
      "\n",
      "1/1 [==============================] - 0s 21ms/step\n",
      "Predicting on: \n",
      " [31566.78320312 32936.98046875 32914.6953125  29730.68554688\n",
      " 30466.33984375 31146.32421875 31374.34765625] -> Prediction: 32319.19140625 \n",
      "\n",
      "1/1 [==============================] - 0s 22ms/step\n",
      "Predicting on: \n",
      " [32936.98046875 32914.6953125  29730.68554688 30466.33984375\n",
      " 31146.32421875 31374.34765625 32319.19140625] -> Prediction: 32714.857421875 \n",
      "\n",
      "1/1 [==============================] - 0s 24ms/step\n",
      "Predicting on: \n",
      " [32914.6953125  29730.68554688 30466.33984375 31146.32421875\n",
      " 31374.34765625 32319.19140625 32714.85742188] -> Prediction: 32210.09375 \n",
      "\n"
     ]
    }
   ],
   "source": [
    "future_forecasts = make_future_prediction(y.values, model_6)"
   ]
  },
  {
   "cell_type": "code",
   "execution_count": 267,
   "metadata": {},
   "outputs": [],
   "source": [
    "def get_future_dates(start_date, into_future=INTO_FUTURE, offset=1):\n",
    "    \"\"\"\n",
    "    Return an array of datetime values ranging from start_date to start_date + into_future.\n",
    "\n",
    "    Parameters:\n",
    "    start_date (datetime): Starting date.\n",
    "    into_future (int): Number of days into the future, default is 7.\n",
    "    offset (int): Offset from the start_date, default is 1 day.\n",
    "\n",
    "    Returns:\n",
    "    numpy.ndarray: Array of dates from start_date + offset to start_date + into_future.\n",
    "    \"\"\"\n",
    "    # Ensure start_date is a numpy datetime64 object\n",
    "    start_date = np.datetime64(start_date)\n",
    "\n",
    "    # Calculate the start date with offset and end date\n",
    "    start_date_with_offset = start_date + np.timedelta64(offset, 'D')  # 'D' stands for day\n",
    "    end_date = start_date_with_offset + np.timedelta64(into_future, 'D')\n",
    "\n",
    "    # Generate and return the range of dates\n",
    "    return np.arange(start_date_with_offset, end_date, dtype='datetime64[D]')\n",
    "\n",
    "future_dates = get_future_dates(y.index[-1])\n"
   ]
  },
  {
   "cell_type": "code",
   "execution_count": 275,
   "metadata": {},
   "outputs": [],
   "source": [
    "future_dates = np.insert(future_dates, 0, y.index[-1])\n",
    "future_forecasts = np.insert(future_forecasts, 0, y.values[-1])"
   ]
  },
  {
   "cell_type": "code",
   "execution_count": 276,
   "metadata": {},
   "outputs": [
    {
     "data": {
      "text/plain": [
       "<matplotlib.legend.Legend at 0x212f3ae3e80>"
      ]
     },
     "execution_count": 276,
     "metadata": {},
     "output_type": "execute_result"
    },
    {
     "data": {
      "image/png": "[encoded data removed]",
      "text/plain": [
       "<Figure size 1000x700 with 1 Axes>"
      ]
     },
     "metadata": {},
     "output_type": "display_data"
    }
   ],
   "source": [
    "offset = 4250\n",
    "plt.figure(figsize=(10, 7))\n",
    "plt.plot(y.index[offset:], y.values[offset:], '-', label='bitcoin data')\n",
    "plt.plot(future_dates, future_forecasts, '-', label='Future perdiction')\n",
    "plt.legend(loc='upper left')"
   ]
  },
  {
   "cell_type": "code",
   "execution_count": 298,
   "metadata": {},
   "outputs": [
    {
     "data": {
      "text/html": [
       "<div>\n",
       "<style scoped>\n",
       "    .dataframe tbody tr th:only-of-type {\n",
       "        vertical-align: middle;\n",
       "    }\n",
       "\n",
       "    .dataframe tbody tr th {\n",
       "        vertical-align: top;\n",
       "    }\n",
       "\n",
       "    .dataframe thead th {\n",
       "        text-align: right;\n",
       "    }\n",
       "</style>\n",
       "<table border=\"1\" class=\"dataframe\">\n",
       "  <thead>\n",
       "    <tr style=\"text-align: right;\">\n",
       "      <th></th>\n",
       "      <th>horizon=1, window_size=7, Dense, univariate</th>\n",
       "      <th>horizon=1, window_size=7, conv1D, univariate</th>\n",
       "      <th>horizon=1, window_size=7, Dense, multivariate</th>\n",
       "      <th>horizon=1, window_size=7, NBeats algo, univariate</th>\n",
       "      <th>horizon=1, window_size=7, Ensemble, univariate</th>\n",
       "    </tr>\n",
       "  </thead>\n",
       "  <tbody>\n",
       "    <tr>\n",
       "      <th>mae</th>\n",
       "      <td>8.194720e+02</td>\n",
       "      <td>1.468349e+04</td>\n",
       "      <td>416.776337</td>\n",
       "      <td>8.265875e+02</td>\n",
       "      <td>8.280799e+02</td>\n",
       "    </tr>\n",
       "    <tr>\n",
       "      <th>mse</th>\n",
       "      <td>1.620772e+06</td>\n",
       "      <td>3.408884e+08</td>\n",
       "      <td>364025.000000</td>\n",
       "      <td>1.630284e+06</td>\n",
       "      <td>1.627460e+06</td>\n",
       "    </tr>\n",
       "    <tr>\n",
       "      <th>rmse</th>\n",
       "      <td>1.273095e+03</td>\n",
       "      <td>1.788456e+04</td>\n",
       "      <td>603.344849</td>\n",
       "      <td>1.276826e+03</td>\n",
       "      <td>1.275719e+03</td>\n",
       "    </tr>\n",
       "    <tr>\n",
       "      <th>mape</th>\n",
       "      <td>2.283613e+00</td>\n",
       "      <td>4.756548e+01</td>\n",
       "      <td>1.165349</td>\n",
       "      <td>2.299408e+00</td>\n",
       "      <td>2.306975e+00</td>\n",
       "    </tr>\n",
       "    <tr>\n",
       "      <th>mase</th>\n",
       "      <td>4.200800e+01</td>\n",
       "      <td>4.200800e+01</td>\n",
       "      <td>42.007999</td>\n",
       "      <td>4.200800e+01</td>\n",
       "      <td>4.200800e+01</td>\n",
       "    </tr>\n",
       "  </tbody>\n",
       "</table>\n",
       "</div>"
      ],
      "text/plain": [
       "      horizon=1, window_size=7, Dense, univariate  \\\n",
       "mae                                  8.194720e+02   \n",
       "mse                                  1.620772e+06   \n",
       "rmse                                 1.273095e+03   \n",
       "mape                                 2.283613e+00   \n",
       "mase                                 4.200800e+01   \n",
       "\n",
       "      horizon=1, window_size=7, conv1D, univariate  \\\n",
       "mae                                   1.468349e+04   \n",
       "mse                                   3.408884e+08   \n",
       "rmse                                  1.788456e+04   \n",
       "mape                                  4.756548e+01   \n",
       "mase                                  4.200800e+01   \n",
       "\n",
       "      horizon=1, window_size=7, Dense, multivariate  \\\n",
       "mae                                      416.776337   \n",
       "mse                                   364025.000000   \n",
       "rmse                                     603.344849   \n",
       "mape                                       1.165349   \n",
       "mase                                      42.007999   \n",
       "\n",
       "      horizon=1, window_size=7, NBeats algo, univariate  \\\n",
       "mae                                        8.265875e+02   \n",
       "mse                                        1.630284e+06   \n",
       "rmse                                       1.276826e+03   \n",
       "mape                                       2.299408e+00   \n",
       "mase                                       4.200800e+01   \n",
       "\n",
       "      horizon=1, window_size=7, Ensemble, univariate  \n",
       "mae                                     8.280799e+02  \n",
       "mse                                     1.627460e+06  \n",
       "rmse                                    1.275719e+03  \n",
       "mape                                    2.306975e+00  \n",
       "mase                                    4.200800e+01  "
      ]
     },
     "execution_count": 298,
     "metadata": {},
     "output_type": "execute_result"
    }
   ],
   "source": [
    "# results = pd.DataFrame(pd.Series(np.expand_dims(model_1_results.values(), axis=0), index=['horizon=1, window_size=7, Dense, univariate']), columns=model_1_results.keys())\n",
    "results = pd.DataFrame.from_dict(model_1_results, orient='index', columns=['horizon=1, window_size=7, Dense, univariate'])\n",
    "results_1 = pd.DataFrame.from_dict(model_2_res, orient='index', columns=['horizon=1, window_size=7, conv1D, univariate'])\n",
    "results_2 = pd.DataFrame.from_dict(model_3_res, orient='index', columns=['horizon=1, window_size=7, Dense, multivariate'])\n",
    "results_3 = pd.DataFrame.from_dict(nbeats_res, orient='index', columns=['horizon=1, window_size=7, NBeats algo, univariate'])\n",
    "results_4 = pd.DataFrame.from_dict(ens_res, orient='index', columns=['horizon=1, window_size=7, Ensemble, univariate'])\n",
    "results = pd.concat([results, results_1, results_2, results_3, results_4], axis=1)\n",
    "results"
   ]
  }
 ],
 "metadata": {
  "kernelspec": {
   "display_name": "base",
   "language": "python",
   "name": "python3"
  },
  "language_info": {
   "codemirror_mode": {
    "name": "ipython",
    "version": 3
   },
   "file_extension": ".py",
   "mimetype": "text/x-python",
   "name": "python",
   "nbconvert_exporter": "python",
   "pygments_lexer": "ipython3",
   "version": "3.10.7"
  },
  "orig_nbformat": 4
 },
 "nbformat": 4,
 "nbformat_minor": 2
}
